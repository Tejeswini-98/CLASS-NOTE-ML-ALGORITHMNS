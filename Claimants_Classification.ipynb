{
  "cells": [
    {
      "cell_type": "markdown",
      "metadata": {
        "id": "view-in-github",
        "colab_type": "text"
      },
      "source": [
        "<a href=\"https://colab.research.google.com/github/Tejeswini-98/CLASS-NOTE-ML-ALGORITHMNS/blob/main/Claimants_Classification.ipynb\" target=\"_parent\"><img src=\"https://colab.research.google.com/assets/colab-badge.svg\" alt=\"Open In Colab\"/></a>"
      ]
    },
    {
      "cell_type": "markdown",
      "id": "bd7869ac",
      "metadata": {
        "id": "bd7869ac"
      },
      "source": [
        "## 1. Import Necessary libraries"
      ]
    },
    {
      "cell_type": "code",
      "execution_count": null,
      "id": "694e6c46",
      "metadata": {
        "id": "694e6c46"
      },
      "outputs": [],
      "source": [
        "import pandas as pd\n",
        "\n",
        "import warnings\n",
        "warnings.filterwarnings('ignore')"
      ]
    },
    {
      "cell_type": "markdown",
      "id": "b9333cc8",
      "metadata": {
        "id": "b9333cc8"
      },
      "source": [
        "## 2. Import Data"
      ]
    },
    {
      "cell_type": "code",
      "execution_count": null,
      "id": "370a2b26",
      "metadata": {
        "id": "370a2b26",
        "outputId": "5e217285-25b1-4b74-d7e8-5e764f9c3861"
      },
      "outputs": [
        {
          "data": {
            "text/html": [
              "<div>\n",
              "<style scoped>\n",
              "    .dataframe tbody tr th:only-of-type {\n",
              "        vertical-align: middle;\n",
              "    }\n",
              "\n",
              "    .dataframe tbody tr th {\n",
              "        vertical-align: top;\n",
              "    }\n",
              "\n",
              "    .dataframe thead th {\n",
              "        text-align: right;\n",
              "    }\n",
              "</style>\n",
              "<table border=\"1\" class=\"dataframe\">\n",
              "  <thead>\n",
              "    <tr style=\"text-align: right;\">\n",
              "      <th></th>\n",
              "      <th>CASENUM</th>\n",
              "      <th>ATTORNEY</th>\n",
              "      <th>CLMSEX</th>\n",
              "      <th>CLMINSUR</th>\n",
              "      <th>SEATBELT</th>\n",
              "      <th>CLMAGE</th>\n",
              "      <th>LOSS</th>\n",
              "    </tr>\n",
              "  </thead>\n",
              "  <tbody>\n",
              "    <tr>\n",
              "      <th>0</th>\n",
              "      <td>5</td>\n",
              "      <td>0</td>\n",
              "      <td>0.0</td>\n",
              "      <td>1.0</td>\n",
              "      <td>0.0</td>\n",
              "      <td>50.0</td>\n",
              "      <td>34.940</td>\n",
              "    </tr>\n",
              "    <tr>\n",
              "      <th>1</th>\n",
              "      <td>3</td>\n",
              "      <td>1</td>\n",
              "      <td>1.0</td>\n",
              "      <td>0.0</td>\n",
              "      <td>0.0</td>\n",
              "      <td>18.0</td>\n",
              "      <td>0.891</td>\n",
              "    </tr>\n",
              "    <tr>\n",
              "      <th>2</th>\n",
              "      <td>66</td>\n",
              "      <td>1</td>\n",
              "      <td>0.0</td>\n",
              "      <td>1.0</td>\n",
              "      <td>0.0</td>\n",
              "      <td>5.0</td>\n",
              "      <td>0.330</td>\n",
              "    </tr>\n",
              "    <tr>\n",
              "      <th>3</th>\n",
              "      <td>70</td>\n",
              "      <td>0</td>\n",
              "      <td>0.0</td>\n",
              "      <td>1.0</td>\n",
              "      <td>1.0</td>\n",
              "      <td>31.0</td>\n",
              "      <td>0.037</td>\n",
              "    </tr>\n",
              "    <tr>\n",
              "      <th>4</th>\n",
              "      <td>96</td>\n",
              "      <td>1</td>\n",
              "      <td>0.0</td>\n",
              "      <td>1.0</td>\n",
              "      <td>0.0</td>\n",
              "      <td>30.0</td>\n",
              "      <td>0.038</td>\n",
              "    </tr>\n",
              "    <tr>\n",
              "      <th>5</th>\n",
              "      <td>97</td>\n",
              "      <td>0</td>\n",
              "      <td>1.0</td>\n",
              "      <td>1.0</td>\n",
              "      <td>0.0</td>\n",
              "      <td>35.0</td>\n",
              "      <td>0.309</td>\n",
              "    </tr>\n",
              "    <tr>\n",
              "      <th>6</th>\n",
              "      <td>10</td>\n",
              "      <td>0</td>\n",
              "      <td>0.0</td>\n",
              "      <td>1.0</td>\n",
              "      <td>0.0</td>\n",
              "      <td>9.0</td>\n",
              "      <td>3.538</td>\n",
              "    </tr>\n",
              "    <tr>\n",
              "      <th>7</th>\n",
              "      <td>36</td>\n",
              "      <td>0</td>\n",
              "      <td>1.0</td>\n",
              "      <td>1.0</td>\n",
              "      <td>0.0</td>\n",
              "      <td>34.0</td>\n",
              "      <td>4.881</td>\n",
              "    </tr>\n",
              "    <tr>\n",
              "      <th>8</th>\n",
              "      <td>51</td>\n",
              "      <td>1</td>\n",
              "      <td>1.0</td>\n",
              "      <td>1.0</td>\n",
              "      <td>0.0</td>\n",
              "      <td>60.0</td>\n",
              "      <td>0.874</td>\n",
              "    </tr>\n",
              "    <tr>\n",
              "      <th>9</th>\n",
              "      <td>55</td>\n",
              "      <td>1</td>\n",
              "      <td>0.0</td>\n",
              "      <td>1.0</td>\n",
              "      <td>0.0</td>\n",
              "      <td>NaN</td>\n",
              "      <td>0.350</td>\n",
              "    </tr>\n",
              "    <tr>\n",
              "      <th>10</th>\n",
              "      <td>61</td>\n",
              "      <td>0</td>\n",
              "      <td>1.0</td>\n",
              "      <td>1.0</td>\n",
              "      <td>0.0</td>\n",
              "      <td>37.0</td>\n",
              "      <td>6.190</td>\n",
              "    </tr>\n",
              "    <tr>\n",
              "      <th>11</th>\n",
              "      <td>148</td>\n",
              "      <td>0</td>\n",
              "      <td>0.0</td>\n",
              "      <td>1.0</td>\n",
              "      <td>0.0</td>\n",
              "      <td>41.0</td>\n",
              "      <td>19.610</td>\n",
              "    </tr>\n",
              "    <tr>\n",
              "      <th>12</th>\n",
              "      <td>150</td>\n",
              "      <td>1</td>\n",
              "      <td>0.0</td>\n",
              "      <td>1.0</td>\n",
              "      <td>0.0</td>\n",
              "      <td>7.0</td>\n",
              "      <td>1.678</td>\n",
              "    </tr>\n",
              "    <tr>\n",
              "      <th>13</th>\n",
              "      <td>150</td>\n",
              "      <td>0</td>\n",
              "      <td>1.0</td>\n",
              "      <td>1.0</td>\n",
              "      <td>0.0</td>\n",
              "      <td>40.0</td>\n",
              "      <td>0.673</td>\n",
              "    </tr>\n",
              "    <tr>\n",
              "      <th>14</th>\n",
              "      <td>169</td>\n",
              "      <td>1</td>\n",
              "      <td>1.0</td>\n",
              "      <td>1.0</td>\n",
              "      <td>0.0</td>\n",
              "      <td>37.0</td>\n",
              "      <td>0.143</td>\n",
              "    </tr>\n",
              "    <tr>\n",
              "      <th>15</th>\n",
              "      <td>171</td>\n",
              "      <td>1</td>\n",
              "      <td>1.0</td>\n",
              "      <td>0.0</td>\n",
              "      <td>0.0</td>\n",
              "      <td>9.0</td>\n",
              "      <td>0.053</td>\n",
              "    </tr>\n",
              "    <tr>\n",
              "      <th>16</th>\n",
              "      <td>334</td>\n",
              "      <td>1</td>\n",
              "      <td>1.0</td>\n",
              "      <td>1.0</td>\n",
              "      <td>0.0</td>\n",
              "      <td>58.0</td>\n",
              "      <td>0.050</td>\n",
              "    </tr>\n",
              "    <tr>\n",
              "      <th>17</th>\n",
              "      <td>360</td>\n",
              "      <td>0</td>\n",
              "      <td>0.0</td>\n",
              "      <td>1.0</td>\n",
              "      <td>0.0</td>\n",
              "      <td>58.0</td>\n",
              "      <td>0.758</td>\n",
              "    </tr>\n",
              "    <tr>\n",
              "      <th>18</th>\n",
              "      <td>376</td>\n",
              "      <td>1</td>\n",
              "      <td>0.0</td>\n",
              "      <td>1.0</td>\n",
              "      <td>0.0</td>\n",
              "      <td>3.0</td>\n",
              "      <td>0.000</td>\n",
              "    </tr>\n",
              "    <tr>\n",
              "      <th>19</th>\n",
              "      <td>401</td>\n",
              "      <td>0</td>\n",
              "      <td>1.0</td>\n",
              "      <td>1.0</td>\n",
              "      <td>0.0</td>\n",
              "      <td>38.0</td>\n",
              "      <td>4.754</td>\n",
              "    </tr>\n",
              "    <tr>\n",
              "      <th>20</th>\n",
              "      <td>479</td>\n",
              "      <td>0</td>\n",
              "      <td>0.0</td>\n",
              "      <td>NaN</td>\n",
              "      <td>0.0</td>\n",
              "      <td>37.0</td>\n",
              "      <td>3.100</td>\n",
              "    </tr>\n",
              "    <tr>\n",
              "      <th>21</th>\n",
              "      <td>480</td>\n",
              "      <td>1</td>\n",
              "      <td>1.0</td>\n",
              "      <td>1.0</td>\n",
              "      <td>0.0</td>\n",
              "      <td>39.0</td>\n",
              "      <td>0.130</td>\n",
              "    </tr>\n",
              "    <tr>\n",
              "      <th>22</th>\n",
              "      <td>550</td>\n",
              "      <td>0</td>\n",
              "      <td>0.0</td>\n",
              "      <td>0.0</td>\n",
              "      <td>0.0</td>\n",
              "      <td>38.0</td>\n",
              "      <td>16.161</td>\n",
              "    </tr>\n",
              "    <tr>\n",
              "      <th>23</th>\n",
              "      <td>569</td>\n",
              "      <td>0</td>\n",
              "      <td>0.0</td>\n",
              "      <td>NaN</td>\n",
              "      <td>0.0</td>\n",
              "      <td>30.0</td>\n",
              "      <td>0.609</td>\n",
              "    </tr>\n",
              "    <tr>\n",
              "      <th>24</th>\n",
              "      <td>580</td>\n",
              "      <td>1</td>\n",
              "      <td>0.0</td>\n",
              "      <td>1.0</td>\n",
              "      <td>0.0</td>\n",
              "      <td>54.0</td>\n",
              "      <td>10.040</td>\n",
              "    </tr>\n",
              "    <tr>\n",
              "      <th>25</th>\n",
              "      <td>608</td>\n",
              "      <td>1</td>\n",
              "      <td>1.0</td>\n",
              "      <td>1.0</td>\n",
              "      <td>0.0</td>\n",
              "      <td>3.0</td>\n",
              "      <td>0.787</td>\n",
              "    </tr>\n",
              "    <tr>\n",
              "      <th>26</th>\n",
              "      <td>603</td>\n",
              "      <td>1</td>\n",
              "      <td>0.0</td>\n",
              "      <td>1.0</td>\n",
              "      <td>0.0</td>\n",
              "      <td>61.0</td>\n",
              "      <td>0.150</td>\n",
              "    </tr>\n",
              "    <tr>\n",
              "      <th>27</th>\n",
              "      <td>606</td>\n",
              "      <td>0</td>\n",
              "      <td>0.0</td>\n",
              "      <td>1.0</td>\n",
              "      <td>0.0</td>\n",
              "      <td>0.0</td>\n",
              "      <td>0.405</td>\n",
              "    </tr>\n",
              "    <tr>\n",
              "      <th>28</th>\n",
              "      <td>607</td>\n",
              "      <td>1</td>\n",
              "      <td>0.0</td>\n",
              "      <td>1.0</td>\n",
              "      <td>0.0</td>\n",
              "      <td>40.0</td>\n",
              "      <td>0.405</td>\n",
              "    </tr>\n",
              "    <tr>\n",
              "      <th>29</th>\n",
              "      <td>630</td>\n",
              "      <td>0</td>\n",
              "      <td>0.0</td>\n",
              "      <td>1.0</td>\n",
              "      <td>0.0</td>\n",
              "      <td>NaN</td>\n",
              "      <td>0.595</td>\n",
              "    </tr>\n",
              "  </tbody>\n",
              "</table>\n",
              "</div>"
            ],
            "text/plain": [
              "    CASENUM  ATTORNEY  CLMSEX  CLMINSUR  SEATBELT  CLMAGE    LOSS\n",
              "0         5         0     0.0       1.0       0.0    50.0  34.940\n",
              "1         3         1     1.0       0.0       0.0    18.0   0.891\n",
              "2        66         1     0.0       1.0       0.0     5.0   0.330\n",
              "3        70         0     0.0       1.0       1.0    31.0   0.037\n",
              "4        96         1     0.0       1.0       0.0    30.0   0.038\n",
              "5        97         0     1.0       1.0       0.0    35.0   0.309\n",
              "6        10         0     0.0       1.0       0.0     9.0   3.538\n",
              "7        36         0     1.0       1.0       0.0    34.0   4.881\n",
              "8        51         1     1.0       1.0       0.0    60.0   0.874\n",
              "9        55         1     0.0       1.0       0.0     NaN   0.350\n",
              "10       61         0     1.0       1.0       0.0    37.0   6.190\n",
              "11      148         0     0.0       1.0       0.0    41.0  19.610\n",
              "12      150         1     0.0       1.0       0.0     7.0   1.678\n",
              "13      150         0     1.0       1.0       0.0    40.0   0.673\n",
              "14      169         1     1.0       1.0       0.0    37.0   0.143\n",
              "15      171         1     1.0       0.0       0.0     9.0   0.053\n",
              "16      334         1     1.0       1.0       0.0    58.0   0.050\n",
              "17      360         0     0.0       1.0       0.0    58.0   0.758\n",
              "18      376         1     0.0       1.0       0.0     3.0   0.000\n",
              "19      401         0     1.0       1.0       0.0    38.0   4.754\n",
              "20      479         0     0.0       NaN       0.0    37.0   3.100\n",
              "21      480         1     1.0       1.0       0.0    39.0   0.130\n",
              "22      550         0     0.0       0.0       0.0    38.0  16.161\n",
              "23      569         0     0.0       NaN       0.0    30.0   0.609\n",
              "24      580         1     0.0       1.0       0.0    54.0  10.040\n",
              "25      608         1     1.0       1.0       0.0     3.0   0.787\n",
              "26      603         1     0.0       1.0       0.0    61.0   0.150\n",
              "27      606         0     0.0       1.0       0.0     0.0   0.405\n",
              "28      607         1     0.0       1.0       0.0    40.0   0.405\n",
              "29      630         0     0.0       1.0       0.0     NaN   0.595"
            ]
          },
          "execution_count": 4,
          "metadata": {},
          "output_type": "execute_result"
        }
      ],
      "source": [
        "claimants_data = pd.read_csv('claimants.csv')\n",
        "claimants_data.head(30)"
      ]
    },
    {
      "cell_type": "markdown",
      "id": "4b443078",
      "metadata": {
        "id": "4b443078"
      },
      "source": [
        "## 3. Data Understanding"
      ]
    },
    {
      "cell_type": "code",
      "execution_count": null,
      "id": "444182fc",
      "metadata": {
        "id": "444182fc",
        "outputId": "1786d190-c01b-47d3-9288-d57916390e94"
      },
      "outputs": [
        {
          "data": {
            "text/plain": [
              "(1340, 7)"
            ]
          },
          "execution_count": 5,
          "metadata": {},
          "output_type": "execute_result"
        }
      ],
      "source": [
        "claimants_data.shape"
      ]
    },
    {
      "cell_type": "code",
      "execution_count": null,
      "id": "170985fd",
      "metadata": {
        "id": "170985fd",
        "outputId": "69d59ce8-f7ea-4219-9818-1c66188162e4"
      },
      "outputs": [
        {
          "data": {
            "text/plain": [
              "CASENUM       0\n",
              "ATTORNEY      0\n",
              "CLMSEX       12\n",
              "CLMINSUR     41\n",
              "SEATBELT     48\n",
              "CLMAGE      189\n",
              "LOSS          0\n",
              "dtype: int64"
            ]
          },
          "execution_count": 6,
          "metadata": {},
          "output_type": "execute_result"
        }
      ],
      "source": [
        "claimants_data.isna().sum()"
      ]
    },
    {
      "cell_type": "code",
      "execution_count": null,
      "id": "2a519aaf",
      "metadata": {
        "id": "2a519aaf",
        "outputId": "be8b373e-a9f0-4981-afc8-2d81f96fc962"
      },
      "outputs": [
        {
          "data": {
            "text/plain": [
              "CASENUM       int64\n",
              "ATTORNEY      int64\n",
              "CLMSEX      float64\n",
              "CLMINSUR    float64\n",
              "SEATBELT    float64\n",
              "CLMAGE      float64\n",
              "LOSS        float64\n",
              "dtype: object"
            ]
          },
          "execution_count": 7,
          "metadata": {},
          "output_type": "execute_result"
        }
      ],
      "source": [
        "claimants_data.dtypes"
      ]
    },
    {
      "cell_type": "code",
      "execution_count": null,
      "id": "d060d5b5",
      "metadata": {
        "id": "d060d5b5",
        "outputId": "9ee4f395-e7e2-4db3-85f8-d4bb728bb4fd"
      },
      "outputs": [
        {
          "data": {
            "text/html": [
              "<div>\n",
              "<style scoped>\n",
              "    .dataframe tbody tr th:only-of-type {\n",
              "        vertical-align: middle;\n",
              "    }\n",
              "\n",
              "    .dataframe tbody tr th {\n",
              "        vertical-align: top;\n",
              "    }\n",
              "\n",
              "    .dataframe thead th {\n",
              "        text-align: right;\n",
              "    }\n",
              "</style>\n",
              "<table border=\"1\" class=\"dataframe\">\n",
              "  <thead>\n",
              "    <tr style=\"text-align: right;\">\n",
              "      <th></th>\n",
              "      <th>CASENUM</th>\n",
              "      <th>ATTORNEY</th>\n",
              "      <th>CLMSEX</th>\n",
              "      <th>CLMINSUR</th>\n",
              "      <th>SEATBELT</th>\n",
              "      <th>CLMAGE</th>\n",
              "      <th>LOSS</th>\n",
              "    </tr>\n",
              "  </thead>\n",
              "  <tbody>\n",
              "    <tr>\n",
              "      <th>count</th>\n",
              "      <td>1340.000000</td>\n",
              "      <td>1340.000000</td>\n",
              "      <td>1328.000000</td>\n",
              "      <td>1299.000000</td>\n",
              "      <td>1292.000000</td>\n",
              "      <td>1151.000000</td>\n",
              "      <td>1340.000000</td>\n",
              "    </tr>\n",
              "    <tr>\n",
              "      <th>mean</th>\n",
              "      <td>11202.001493</td>\n",
              "      <td>0.488806</td>\n",
              "      <td>0.558735</td>\n",
              "      <td>0.907621</td>\n",
              "      <td>0.017028</td>\n",
              "      <td>28.414422</td>\n",
              "      <td>3.806307</td>\n",
              "    </tr>\n",
              "    <tr>\n",
              "      <th>std</th>\n",
              "      <td>9512.750796</td>\n",
              "      <td>0.500061</td>\n",
              "      <td>0.496725</td>\n",
              "      <td>0.289671</td>\n",
              "      <td>0.129425</td>\n",
              "      <td>20.304451</td>\n",
              "      <td>10.636903</td>\n",
              "    </tr>\n",
              "    <tr>\n",
              "      <th>min</th>\n",
              "      <td>0.000000</td>\n",
              "      <td>0.000000</td>\n",
              "      <td>0.000000</td>\n",
              "      <td>0.000000</td>\n",
              "      <td>0.000000</td>\n",
              "      <td>0.000000</td>\n",
              "      <td>0.000000</td>\n",
              "    </tr>\n",
              "    <tr>\n",
              "      <th>25%</th>\n",
              "      <td>4177.000000</td>\n",
              "      <td>0.000000</td>\n",
              "      <td>0.000000</td>\n",
              "      <td>1.000000</td>\n",
              "      <td>0.000000</td>\n",
              "      <td>9.000000</td>\n",
              "      <td>0.400000</td>\n",
              "    </tr>\n",
              "    <tr>\n",
              "      <th>50%</th>\n",
              "      <td>8756.500000</td>\n",
              "      <td>0.000000</td>\n",
              "      <td>1.000000</td>\n",
              "      <td>1.000000</td>\n",
              "      <td>0.000000</td>\n",
              "      <td>30.000000</td>\n",
              "      <td>1.069500</td>\n",
              "    </tr>\n",
              "    <tr>\n",
              "      <th>75%</th>\n",
              "      <td>15702.500000</td>\n",
              "      <td>1.000000</td>\n",
              "      <td>1.000000</td>\n",
              "      <td>1.000000</td>\n",
              "      <td>0.000000</td>\n",
              "      <td>43.000000</td>\n",
              "      <td>3.781500</td>\n",
              "    </tr>\n",
              "    <tr>\n",
              "      <th>max</th>\n",
              "      <td>34153.000000</td>\n",
              "      <td>1.000000</td>\n",
              "      <td>1.000000</td>\n",
              "      <td>1.000000</td>\n",
              "      <td>1.000000</td>\n",
              "      <td>95.000000</td>\n",
              "      <td>173.604000</td>\n",
              "    </tr>\n",
              "  </tbody>\n",
              "</table>\n",
              "</div>"
            ],
            "text/plain": [
              "            CASENUM     ATTORNEY       CLMSEX     CLMINSUR     SEATBELT  \\\n",
              "count   1340.000000  1340.000000  1328.000000  1299.000000  1292.000000   \n",
              "mean   11202.001493     0.488806     0.558735     0.907621     0.017028   \n",
              "std     9512.750796     0.500061     0.496725     0.289671     0.129425   \n",
              "min        0.000000     0.000000     0.000000     0.000000     0.000000   \n",
              "25%     4177.000000     0.000000     0.000000     1.000000     0.000000   \n",
              "50%     8756.500000     0.000000     1.000000     1.000000     0.000000   \n",
              "75%    15702.500000     1.000000     1.000000     1.000000     0.000000   \n",
              "max    34153.000000     1.000000     1.000000     1.000000     1.000000   \n",
              "\n",
              "            CLMAGE         LOSS  \n",
              "count  1151.000000  1340.000000  \n",
              "mean     28.414422     3.806307  \n",
              "std      20.304451    10.636903  \n",
              "min       0.000000     0.000000  \n",
              "25%       9.000000     0.400000  \n",
              "50%      30.000000     1.069500  \n",
              "75%      43.000000     3.781500  \n",
              "max      95.000000   173.604000  "
            ]
          },
          "execution_count": 8,
          "metadata": {},
          "output_type": "execute_result"
        }
      ],
      "source": [
        "claimants_data.describe()"
      ]
    },
    {
      "cell_type": "markdown",
      "id": "5a614db0",
      "metadata": {
        "id": "5a614db0"
      },
      "source": [
        "## 4. Data Preparation"
      ]
    },
    {
      "cell_type": "code",
      "execution_count": null,
      "id": "c7c8aa03",
      "metadata": {
        "id": "c7c8aa03"
      },
      "outputs": [],
      "source": [
        "del claimants_data['CASENUM']"
      ]
    },
    {
      "cell_type": "code",
      "execution_count": null,
      "id": "72bbe336",
      "metadata": {
        "id": "72bbe336",
        "outputId": "8dddc365-b37d-4d78-c98a-f3d8a5abb99a"
      },
      "outputs": [
        {
          "data": {
            "text/html": [
              "<div>\n",
              "<style scoped>\n",
              "    .dataframe tbody tr th:only-of-type {\n",
              "        vertical-align: middle;\n",
              "    }\n",
              "\n",
              "    .dataframe tbody tr th {\n",
              "        vertical-align: top;\n",
              "    }\n",
              "\n",
              "    .dataframe thead th {\n",
              "        text-align: right;\n",
              "    }\n",
              "</style>\n",
              "<table border=\"1\" class=\"dataframe\">\n",
              "  <thead>\n",
              "    <tr style=\"text-align: right;\">\n",
              "      <th></th>\n",
              "      <th>ATTORNEY</th>\n",
              "      <th>CLMSEX</th>\n",
              "      <th>CLMINSUR</th>\n",
              "      <th>SEATBELT</th>\n",
              "      <th>CLMAGE</th>\n",
              "      <th>LOSS</th>\n",
              "    </tr>\n",
              "  </thead>\n",
              "  <tbody>\n",
              "    <tr>\n",
              "      <th>0</th>\n",
              "      <td>0</td>\n",
              "      <td>0.0</td>\n",
              "      <td>1.0</td>\n",
              "      <td>0.0</td>\n",
              "      <td>50.0</td>\n",
              "      <td>34.940</td>\n",
              "    </tr>\n",
              "    <tr>\n",
              "      <th>1</th>\n",
              "      <td>1</td>\n",
              "      <td>1.0</td>\n",
              "      <td>0.0</td>\n",
              "      <td>0.0</td>\n",
              "      <td>18.0</td>\n",
              "      <td>0.891</td>\n",
              "    </tr>\n",
              "    <tr>\n",
              "      <th>2</th>\n",
              "      <td>1</td>\n",
              "      <td>0.0</td>\n",
              "      <td>1.0</td>\n",
              "      <td>0.0</td>\n",
              "      <td>5.0</td>\n",
              "      <td>0.330</td>\n",
              "    </tr>\n",
              "    <tr>\n",
              "      <th>3</th>\n",
              "      <td>0</td>\n",
              "      <td>0.0</td>\n",
              "      <td>1.0</td>\n",
              "      <td>1.0</td>\n",
              "      <td>31.0</td>\n",
              "      <td>0.037</td>\n",
              "    </tr>\n",
              "    <tr>\n",
              "      <th>4</th>\n",
              "      <td>1</td>\n",
              "      <td>0.0</td>\n",
              "      <td>1.0</td>\n",
              "      <td>0.0</td>\n",
              "      <td>30.0</td>\n",
              "      <td>0.038</td>\n",
              "    </tr>\n",
              "  </tbody>\n",
              "</table>\n",
              "</div>"
            ],
            "text/plain": [
              "   ATTORNEY  CLMSEX  CLMINSUR  SEATBELT  CLMAGE    LOSS\n",
              "0         0     0.0       1.0       0.0    50.0  34.940\n",
              "1         1     1.0       0.0       0.0    18.0   0.891\n",
              "2         1     0.0       1.0       0.0     5.0   0.330\n",
              "3         0     0.0       1.0       1.0    31.0   0.037\n",
              "4         1     0.0       1.0       0.0    30.0   0.038"
            ]
          },
          "execution_count": 10,
          "metadata": {},
          "output_type": "execute_result"
        }
      ],
      "source": [
        "claimants_data.head()"
      ]
    },
    {
      "cell_type": "code",
      "execution_count": null,
      "id": "1c0df24b",
      "metadata": {
        "id": "1c0df24b"
      },
      "outputs": [],
      "source": [
        "claimants_data.dropna(axis = 0,inplace=True)"
      ]
    },
    {
      "cell_type": "code",
      "execution_count": null,
      "id": "4194fe02",
      "metadata": {
        "id": "4194fe02",
        "outputId": "617a8430-32a0-4adf-824a-d252377f1ce7"
      },
      "outputs": [
        {
          "data": {
            "text/plain": [
              "(1096, 6)"
            ]
          },
          "execution_count": 12,
          "metadata": {},
          "output_type": "execute_result"
        }
      ],
      "source": [
        "claimants_data.shape"
      ]
    },
    {
      "cell_type": "code",
      "execution_count": null,
      "id": "38276f50",
      "metadata": {
        "id": "38276f50",
        "outputId": "54adc8c6-f404-4902-ae73-37fc43ee30a6"
      },
      "outputs": [
        {
          "data": {
            "text/plain": [
              "ATTORNEY    0\n",
              "CLMSEX      0\n",
              "CLMINSUR    0\n",
              "SEATBELT    0\n",
              "CLMAGE      0\n",
              "LOSS        0\n",
              "dtype: int64"
            ]
          },
          "execution_count": 13,
          "metadata": {},
          "output_type": "execute_result"
        }
      ],
      "source": [
        "claimants_data.isna().sum()"
      ]
    },
    {
      "cell_type": "code",
      "execution_count": null,
      "id": "c9ef2bbb",
      "metadata": {
        "id": "c9ef2bbb",
        "outputId": "41567163-e5ae-4057-dd2c-c99ed60c43c9"
      },
      "outputs": [
        {
          "data": {
            "text/plain": [
              "ATTORNEY      int64\n",
              "CLMSEX      float64\n",
              "CLMINSUR    float64\n",
              "SEATBELT    float64\n",
              "CLMAGE      float64\n",
              "LOSS        float64\n",
              "dtype: object"
            ]
          },
          "execution_count": 14,
          "metadata": {},
          "output_type": "execute_result"
        }
      ],
      "source": [
        "claimants_data.dtypes"
      ]
    },
    {
      "cell_type": "markdown",
      "id": "092a3208",
      "metadata": {
        "id": "092a3208"
      },
      "source": [
        "## 5. Model Building"
      ]
    },
    {
      "cell_type": "code",
      "execution_count": null,
      "id": "7c0dd352",
      "metadata": {
        "id": "7c0dd352"
      },
      "outputs": [],
      "source": [
        "X = claimants_data.drop(labels='ATTORNEY',axis=1)\n",
        "y = claimants_data[['ATTORNEY']]"
      ]
    },
    {
      "cell_type": "code",
      "execution_count": null,
      "id": "85738b54",
      "metadata": {
        "id": "85738b54"
      },
      "outputs": [],
      "source": [
        "from sklearn.model_selection import train_test_split\n",
        "X_train,X_test,y_train,y_test = train_test_split(X,y,test_size = 0.20,random_state=12,shuffle=True)"
      ]
    },
    {
      "cell_type": "code",
      "execution_count": null,
      "id": "a33348cf",
      "metadata": {
        "id": "a33348cf",
        "outputId": "d2fd7973-06d8-46c5-eb99-757fad626d59"
      },
      "outputs": [
        {
          "data": {
            "text/plain": [
              "((876, 5), (876, 1))"
            ]
          },
          "execution_count": 22,
          "metadata": {},
          "output_type": "execute_result"
        }
      ],
      "source": [
        "X_train.shape,y_train.shape"
      ]
    },
    {
      "cell_type": "code",
      "execution_count": null,
      "id": "22efa8d1",
      "metadata": {
        "id": "22efa8d1",
        "outputId": "4ff01fe0-a853-429a-9ede-7ca0cfa69609"
      },
      "outputs": [
        {
          "data": {
            "text/html": [
              "<div>\n",
              "<style scoped>\n",
              "    .dataframe tbody tr th:only-of-type {\n",
              "        vertical-align: middle;\n",
              "    }\n",
              "\n",
              "    .dataframe tbody tr th {\n",
              "        vertical-align: top;\n",
              "    }\n",
              "\n",
              "    .dataframe thead th {\n",
              "        text-align: right;\n",
              "    }\n",
              "</style>\n",
              "<table border=\"1\" class=\"dataframe\">\n",
              "  <thead>\n",
              "    <tr style=\"text-align: right;\">\n",
              "      <th></th>\n",
              "      <th>CLMSEX</th>\n",
              "      <th>CLMINSUR</th>\n",
              "      <th>SEATBELT</th>\n",
              "      <th>CLMAGE</th>\n",
              "      <th>LOSS</th>\n",
              "    </tr>\n",
              "  </thead>\n",
              "  <tbody>\n",
              "    <tr>\n",
              "      <th>965</th>\n",
              "      <td>0.0</td>\n",
              "      <td>1.0</td>\n",
              "      <td>0.0</td>\n",
              "      <td>49.0</td>\n",
              "      <td>4.714</td>\n",
              "    </tr>\n",
              "    <tr>\n",
              "      <th>448</th>\n",
              "      <td>0.0</td>\n",
              "      <td>1.0</td>\n",
              "      <td>0.0</td>\n",
              "      <td>64.0</td>\n",
              "      <td>3.457</td>\n",
              "    </tr>\n",
              "    <tr>\n",
              "      <th>802</th>\n",
              "      <td>1.0</td>\n",
              "      <td>1.0</td>\n",
              "      <td>0.0</td>\n",
              "      <td>11.0</td>\n",
              "      <td>3.713</td>\n",
              "    </tr>\n",
              "    <tr>\n",
              "      <th>567</th>\n",
              "      <td>1.0</td>\n",
              "      <td>0.0</td>\n",
              "      <td>0.0</td>\n",
              "      <td>40.0</td>\n",
              "      <td>8.406</td>\n",
              "    </tr>\n",
              "    <tr>\n",
              "      <th>602</th>\n",
              "      <td>1.0</td>\n",
              "      <td>1.0</td>\n",
              "      <td>0.0</td>\n",
              "      <td>13.0</td>\n",
              "      <td>0.150</td>\n",
              "    </tr>\n",
              "    <tr>\n",
              "      <th>...</th>\n",
              "      <td>...</td>\n",
              "      <td>...</td>\n",
              "      <td>...</td>\n",
              "      <td>...</td>\n",
              "      <td>...</td>\n",
              "    </tr>\n",
              "    <tr>\n",
              "      <th>513</th>\n",
              "      <td>1.0</td>\n",
              "      <td>1.0</td>\n",
              "      <td>0.0</td>\n",
              "      <td>64.0</td>\n",
              "      <td>0.061</td>\n",
              "    </tr>\n",
              "    <tr>\n",
              "      <th>580</th>\n",
              "      <td>1.0</td>\n",
              "      <td>1.0</td>\n",
              "      <td>0.0</td>\n",
              "      <td>8.0</td>\n",
              "      <td>6.047</td>\n",
              "    </tr>\n",
              "    <tr>\n",
              "      <th>59</th>\n",
              "      <td>0.0</td>\n",
              "      <td>1.0</td>\n",
              "      <td>0.0</td>\n",
              "      <td>10.0</td>\n",
              "      <td>0.987</td>\n",
              "    </tr>\n",
              "    <tr>\n",
              "      <th>334</th>\n",
              "      <td>0.0</td>\n",
              "      <td>1.0</td>\n",
              "      <td>0.0</td>\n",
              "      <td>8.0</td>\n",
              "      <td>5.830</td>\n",
              "    </tr>\n",
              "    <tr>\n",
              "      <th>531</th>\n",
              "      <td>1.0</td>\n",
              "      <td>1.0</td>\n",
              "      <td>0.0</td>\n",
              "      <td>50.0</td>\n",
              "      <td>0.435</td>\n",
              "    </tr>\n",
              "  </tbody>\n",
              "</table>\n",
              "<p>876 rows × 5 columns</p>\n",
              "</div>"
            ],
            "text/plain": [
              "     CLMSEX  CLMINSUR  SEATBELT  CLMAGE   LOSS\n",
              "965     0.0       1.0       0.0    49.0  4.714\n",
              "448     0.0       1.0       0.0    64.0  3.457\n",
              "802     1.0       1.0       0.0    11.0  3.713\n",
              "567     1.0       0.0       0.0    40.0  8.406\n",
              "602     1.0       1.0       0.0    13.0  0.150\n",
              "..      ...       ...       ...     ...    ...\n",
              "513     1.0       1.0       0.0    64.0  0.061\n",
              "580     1.0       1.0       0.0     8.0  6.047\n",
              "59      0.0       1.0       0.0    10.0  0.987\n",
              "334     0.0       1.0       0.0     8.0  5.830\n",
              "531     1.0       1.0       0.0    50.0  0.435\n",
              "\n",
              "[876 rows x 5 columns]"
            ]
          },
          "execution_count": 34,
          "metadata": {},
          "output_type": "execute_result"
        }
      ],
      "source": [
        "X_train"
      ]
    },
    {
      "cell_type": "code",
      "execution_count": null,
      "id": "fc257e4c",
      "metadata": {
        "id": "fc257e4c",
        "outputId": "535625dd-24b1-4239-a0c5-603b7e075fff"
      },
      "outputs": [
        {
          "data": {
            "text/html": [
              "<div>\n",
              "<style scoped>\n",
              "    .dataframe tbody tr th:only-of-type {\n",
              "        vertical-align: middle;\n",
              "    }\n",
              "\n",
              "    .dataframe tbody tr th {\n",
              "        vertical-align: top;\n",
              "    }\n",
              "\n",
              "    .dataframe thead th {\n",
              "        text-align: right;\n",
              "    }\n",
              "</style>\n",
              "<table border=\"1\" class=\"dataframe\">\n",
              "  <thead>\n",
              "    <tr style=\"text-align: right;\">\n",
              "      <th></th>\n",
              "      <th>ATTORNEY</th>\n",
              "    </tr>\n",
              "  </thead>\n",
              "  <tbody>\n",
              "    <tr>\n",
              "      <th>965</th>\n",
              "      <td>1</td>\n",
              "    </tr>\n",
              "    <tr>\n",
              "      <th>448</th>\n",
              "      <td>0</td>\n",
              "    </tr>\n",
              "    <tr>\n",
              "      <th>802</th>\n",
              "      <td>0</td>\n",
              "    </tr>\n",
              "    <tr>\n",
              "      <th>567</th>\n",
              "      <td>1</td>\n",
              "    </tr>\n",
              "    <tr>\n",
              "      <th>602</th>\n",
              "      <td>1</td>\n",
              "    </tr>\n",
              "    <tr>\n",
              "      <th>...</th>\n",
              "      <td>...</td>\n",
              "    </tr>\n",
              "    <tr>\n",
              "      <th>513</th>\n",
              "      <td>1</td>\n",
              "    </tr>\n",
              "    <tr>\n",
              "      <th>580</th>\n",
              "      <td>0</td>\n",
              "    </tr>\n",
              "    <tr>\n",
              "      <th>59</th>\n",
              "      <td>1</td>\n",
              "    </tr>\n",
              "    <tr>\n",
              "      <th>334</th>\n",
              "      <td>0</td>\n",
              "    </tr>\n",
              "    <tr>\n",
              "      <th>531</th>\n",
              "      <td>1</td>\n",
              "    </tr>\n",
              "  </tbody>\n",
              "</table>\n",
              "<p>876 rows × 1 columns</p>\n",
              "</div>"
            ],
            "text/plain": [
              "     ATTORNEY\n",
              "965         1\n",
              "448         0\n",
              "802         0\n",
              "567         1\n",
              "602         1\n",
              "..        ...\n",
              "513         1\n",
              "580         0\n",
              "59          1\n",
              "334         0\n",
              "531         1\n",
              "\n",
              "[876 rows x 1 columns]"
            ]
          },
          "execution_count": 35,
          "metadata": {},
          "output_type": "execute_result"
        }
      ],
      "source": [
        "y_train"
      ]
    },
    {
      "cell_type": "markdown",
      "id": "5f107bd9",
      "metadata": {
        "id": "5f107bd9"
      },
      "source": [
        "### 6. Model Training"
      ]
    },
    {
      "cell_type": "code",
      "execution_count": null,
      "id": "8990a585",
      "metadata": {
        "id": "8990a585",
        "outputId": "2a1a8280-ef74-4c21-f528-b404bb44ef48"
      },
      "outputs": [
        {
          "data": {
            "text/plain": [
              "LogisticRegression()"
            ]
          },
          "execution_count": 40,
          "metadata": {},
          "output_type": "execute_result"
        }
      ],
      "source": [
        "from sklearn.linear_model import LogisticRegression\n",
        "logistic_model = LogisticRegression()\n",
        "logistic_model.fit(X_train,y_train)"
      ]
    },
    {
      "cell_type": "code",
      "execution_count": null,
      "id": "f159ece9",
      "metadata": {
        "id": "f159ece9",
        "outputId": "ef66578c-1d4a-458e-cb75-186de6c70d55"
      },
      "outputs": [
        {
          "data": {
            "text/plain": [
              "DecisionTreeClassifier()"
            ]
          },
          "execution_count": 65,
          "metadata": {},
          "output_type": "execute_result"
        }
      ],
      "source": [
        "from sklearn.tree import DecisionTreeClassifier\n",
        "dt_model = DecisionTreeClassifier()\n",
        "dt_model.fit(X_train,y_train)"
      ]
    },
    {
      "cell_type": "code",
      "execution_count": null,
      "id": "ac12d8e8",
      "metadata": {
        "id": "ac12d8e8",
        "outputId": "707fcbc2-8a08-4677-9b29-b2339590128a"
      },
      "outputs": [
        {
          "data": {
            "text/plain": [
              "array([[ 0.35680679,  0.67570996, -0.57875527,  0.00657283, -0.39132083]])"
            ]
          },
          "execution_count": 41,
          "metadata": {},
          "output_type": "execute_result"
        }
      ],
      "source": [
        "logistic_model.coef_"
      ]
    },
    {
      "cell_type": "code",
      "execution_count": null,
      "id": "fe15b5f4",
      "metadata": {
        "id": "fe15b5f4",
        "outputId": "c2a338ab-7b6c-41da-801b-2a64ea66b225"
      },
      "outputs": [
        {
          "data": {
            "text/plain": [
              "array([-0.20995559])"
            ]
          },
          "execution_count": 42,
          "metadata": {},
          "output_type": "execute_result"
        }
      ],
      "source": [
        "logistic_model.intercept_"
      ]
    },
    {
      "cell_type": "markdown",
      "id": "e8137af8",
      "metadata": {
        "id": "e8137af8"
      },
      "source": [
        "### 7. Model Testing || 8. Model Evaluation"
      ]
    },
    {
      "cell_type": "code",
      "source": [],
      "metadata": {
        "id": "GAb46xg-nhYy"
      },
      "id": "GAb46xg-nhYy",
      "execution_count": null,
      "outputs": []
    },
    {
      "cell_type": "markdown",
      "id": "852c4594",
      "metadata": {
        "id": "852c4594"
      },
      "source": [
        "#### Training Data"
      ]
    },
    {
      "cell_type": "code",
      "execution_count": null,
      "id": "eb3f6e82",
      "metadata": {
        "id": "eb3f6e82"
      },
      "outputs": [],
      "source": [
        "y_pred_train = dt_model.predict(X_train)"
      ]
    },
    {
      "cell_type": "code",
      "execution_count": null,
      "id": "51e027a1",
      "metadata": {
        "id": "51e027a1",
        "outputId": "035cbe54-a8e7-4a82-bae4-f2650aace513"
      },
      "outputs": [
        {
          "name": "stdout",
          "output_type": "stream",
          "text": [
            "0.9965753424657534\n"
          ]
        }
      ],
      "source": [
        "from sklearn.metrics import accuracy_score,classification_report,confusion_matrix\n",
        "print(accuracy_score(y_train,y_pred_train))"
      ]
    },
    {
      "cell_type": "code",
      "execution_count": null,
      "id": "740fed73",
      "metadata": {
        "id": "740fed73",
        "outputId": "7a2115f0-f490-4cf3-9beb-e8f43fe04126"
      },
      "outputs": [
        {
          "name": "stdout",
          "output_type": "stream",
          "text": [
            "Classification Report:\n",
            "               precision    recall  f1-score   support\n",
            "\n",
            "           0       0.99      1.00      1.00       464\n",
            "           1       1.00      0.99      1.00       412\n",
            "\n",
            "    accuracy                           1.00       876\n",
            "   macro avg       1.00      1.00      1.00       876\n",
            "weighted avg       1.00      1.00      1.00       876\n",
            "\n"
          ]
        }
      ],
      "source": [
        "print('Classification Report:\\n',classification_report(y_train,y_pred_train))"
      ]
    },
    {
      "cell_type": "code",
      "execution_count": null,
      "id": "8cda76d2",
      "metadata": {
        "id": "8cda76d2",
        "outputId": "381e9b3c-531a-451c-ace5-05e421c556f7"
      },
      "outputs": [
        {
          "name": "stdout",
          "output_type": "stream",
          "text": [
            "Confusion Matrix:\n",
            " [[464   0]\n",
            " [  3 409]]\n"
          ]
        }
      ],
      "source": [
        "print('Confusion Matrix:\\n',confusion_matrix(y_train,y_pred_train))"
      ]
    },
    {
      "cell_type": "code",
      "execution_count": null,
      "id": "0d76512c",
      "metadata": {
        "id": "0d76512c",
        "outputId": "957fb99d-c475-4fa4-fa75-9c4f91bbae42"
      },
      "outputs": [
        {
          "name": "stdout",
          "output_type": "stream",
          "text": [
            "0.9963592233009708\n"
          ]
        },
        {
          "data": {
            "text/plain": [
              "Text(0, 0.5, 'True Positive Rate')"
            ]
          },
          "execution_count": 71,
          "metadata": {},
          "output_type": "execute_result"
        },
        {
          "data": {
            "image/png": "[encoded data removed]",
            "text/plain": [
              "<Figure size 432x288 with 1 Axes>"
            ]
          },
          "metadata": {
            "needs_background": "light"
          },
          "output_type": "display_data"
        }
      ],
      "source": [
        "from sklearn.metrics import roc_curve,roc_auc_score\n",
        "fpr, tpr, thresholds = roc_curve(y, dt_model.predict_proba (X)[:,1])\n",
        "\n",
        "auc = roc_auc_score(y_train,y_pred_train)\n",
        "print(auc)\n",
        "\n",
        "import matplotlib.pyplot as plt\n",
        "plt.plot(fpr, tpr, color='red', label='logit model ( area  = %0.2f)'%auc)\n",
        "plt.plot([0, 1], [0, 1], 'k--')\n",
        "plt.xlabel('False Positive Rate or [1 - True Negative Rate]')\n",
        "plt.ylabel('True Positive Rate')"
      ]
    },
    {
      "cell_type": "markdown",
      "id": "a5417544",
      "metadata": {
        "id": "a5417544"
      },
      "source": [
        "#### Test Data"
      ]
    },
    {
      "cell_type": "code",
      "execution_count": null,
      "id": "6e8829f1",
      "metadata": {
        "id": "6e8829f1"
      },
      "outputs": [],
      "source": [
        "y_pred_test = logistic_model.predict(X_test)"
      ]
    },
    {
      "cell_type": "code",
      "execution_count": null,
      "id": "ec4ecef9",
      "metadata": {
        "id": "ec4ecef9"
      },
      "outputs": [],
      "source": [
        "accuracy_score(y_test,y_pred_test)"
      ]
    },
    {
      "cell_type": "markdown",
      "id": "0d8c17b5",
      "metadata": {
        "id": "0d8c17b5"
      },
      "source": [
        "### 9. Model Deployement"
      ]
    },
    {
      "cell_type": "code",
      "execution_count": null,
      "id": "b26a8718",
      "metadata": {
        "id": "b26a8718"
      },
      "outputs": [],
      "source": [
        "from pickle import dump"
      ]
    },
    {
      "cell_type": "code",
      "execution_count": null,
      "id": "bf7e058f",
      "metadata": {
        "id": "bf7e058f"
      },
      "outputs": [],
      "source": [
        "dump(logistic_model,open('log_model.pkl','wb'))"
      ]
    },
    {
      "cell_type": "code",
      "execution_count": null,
      "id": "ccaf088e",
      "metadata": {
        "id": "ccaf088e"
      },
      "outputs": [],
      "source": [
        "from pickle import load"
      ]
    },
    {
      "cell_type": "code",
      "execution_count": null,
      "id": "a587432c",
      "metadata": {
        "id": "a587432c"
      },
      "outputs": [],
      "source": [
        "loaded_logistic_model = load(open('log_model.pkl','rb'))"
      ]
    },
    {
      "cell_type": "code",
      "execution_count": null,
      "id": "2be74268",
      "metadata": {
        "id": "2be74268"
      },
      "outputs": [],
      "source": [
        "y_prediction_validation = loaded_logistic_model.predict(X_test)"
      ]
    },
    {
      "cell_type": "markdown",
      "id": "c2951a93",
      "metadata": {
        "id": "c2951a93"
      },
      "source": [
        "# THE END!!"
      ]
    }
  ],
  "metadata": {
    "kernelspec": {
      "display_name": "Python 3",
      "language": "python",
      "name": "python3"
    },
    "language_info": {
      "codemirror_mode": {
        "name": "ipython",
        "version": 3
      },
      "file_extension": ".py",
      "mimetype": "text/x-python",
      "name": "python",
      "nbconvert_exporter": "python",
      "pygments_lexer": "ipython3",
      "version": "3.8.8"
    },
    "colab": {
      "provenance": [],
      "include_colab_link": true
    }
  },
  "nbformat": 4,
  "nbformat_minor": 5
}