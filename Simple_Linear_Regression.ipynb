{
  "cells": [
    {
      "cell_type": "markdown",
      "metadata": {
        "id": "view-in-github",
        "colab_type": "text"
      },
      "source": [
        "<a href=\"https://colab.research.google.com/github/Tejeswini-98/CLASS-NOTE-ML-ALGORITHMNS/blob/main/Simple_Linear_Regression.ipynb\" target=\"_parent\"><img src=\"https://colab.research.google.com/assets/colab-badge.svg\" alt=\"Open In Colab\"/></a>"
      ]
    },
    {
      "cell_type": "markdown",
      "id": "2b569a8b",
      "metadata": {
        "id": "2b569a8b"
      },
      "source": [
        "## 1. Import Necessary libraries"
      ]
    },
    {
      "cell_type": "code",
      "execution_count": null,
      "id": "b603c356",
      "metadata": {
        "id": "b603c356"
      },
      "outputs": [],
      "source": [
        "import pandas as pd\n",
        "\n",
        "from matplotlib import pyplot as plt\n",
        "import seaborn as sns\n",
        "\n",
        "import warnings\n",
        "warnings.filterwarnings('ignore')"
      ]
    },
    {
      "cell_type": "markdown",
      "id": "3350139a",
      "metadata": {
        "id": "3350139a"
      },
      "source": [
        "## 2. Import Data"
      ]
    },
    {
      "cell_type": "code",
      "execution_count": null,
      "id": "25f1ade5",
      "metadata": {
        "id": "25f1ade5",
        "outputId": "1c09c29f-16eb-43d2-d5d5-edc3d9ffa456"
      },
      "outputs": [
        {
          "data": {
            "text/html": [
              "<div>\n",
              "<style scoped>\n",
              "    .dataframe tbody tr th:only-of-type {\n",
              "        vertical-align: middle;\n",
              "    }\n",
              "\n",
              "    .dataframe tbody tr th {\n",
              "        vertical-align: top;\n",
              "    }\n",
              "\n",
              "    .dataframe thead th {\n",
              "        text-align: right;\n",
              "    }\n",
              "</style>\n",
              "<table border=\"1\" class=\"dataframe\">\n",
              "  <thead>\n",
              "    <tr style=\"text-align: right;\">\n",
              "      <th></th>\n",
              "      <th>Newspaper</th>\n",
              "      <th>daily</th>\n",
              "      <th>sunday</th>\n",
              "    </tr>\n",
              "  </thead>\n",
              "  <tbody>\n",
              "    <tr>\n",
              "      <th>0</th>\n",
              "      <td>Baltimore Sun</td>\n",
              "      <td>391.952</td>\n",
              "      <td>488.506</td>\n",
              "    </tr>\n",
              "    <tr>\n",
              "      <th>1</th>\n",
              "      <td>Boston Globe</td>\n",
              "      <td>516.981</td>\n",
              "      <td>798.298</td>\n",
              "    </tr>\n",
              "    <tr>\n",
              "      <th>2</th>\n",
              "      <td>Boston Herald</td>\n",
              "      <td>355.628</td>\n",
              "      <td>235.084</td>\n",
              "    </tr>\n",
              "    <tr>\n",
              "      <th>3</th>\n",
              "      <td>Charlotte Observer</td>\n",
              "      <td>238.555</td>\n",
              "      <td>299.451</td>\n",
              "    </tr>\n",
              "    <tr>\n",
              "      <th>4</th>\n",
              "      <td>Chicago Sun Times</td>\n",
              "      <td>537.780</td>\n",
              "      <td>559.093</td>\n",
              "    </tr>\n",
              "    <tr>\n",
              "      <th>5</th>\n",
              "      <td>Chicago Tribune</td>\n",
              "      <td>733.775</td>\n",
              "      <td>1133.249</td>\n",
              "    </tr>\n",
              "    <tr>\n",
              "      <th>6</th>\n",
              "      <td>Cincinnati Enquirer</td>\n",
              "      <td>198.832</td>\n",
              "      <td>348.744</td>\n",
              "    </tr>\n",
              "    <tr>\n",
              "      <th>7</th>\n",
              "      <td>Denver Post</td>\n",
              "      <td>252.624</td>\n",
              "      <td>417.779</td>\n",
              "    </tr>\n",
              "    <tr>\n",
              "      <th>8</th>\n",
              "      <td>Des Moines Register</td>\n",
              "      <td>206.204</td>\n",
              "      <td>344.522</td>\n",
              "    </tr>\n",
              "    <tr>\n",
              "      <th>9</th>\n",
              "      <td>Hartford Courant</td>\n",
              "      <td>231.177</td>\n",
              "      <td>323.084</td>\n",
              "    </tr>\n",
              "    <tr>\n",
              "      <th>10</th>\n",
              "      <td>Houston Chronicle</td>\n",
              "      <td>449.755</td>\n",
              "      <td>620.752</td>\n",
              "    </tr>\n",
              "    <tr>\n",
              "      <th>11</th>\n",
              "      <td>Kansas City Star</td>\n",
              "      <td>288.571</td>\n",
              "      <td>423.305</td>\n",
              "    </tr>\n",
              "    <tr>\n",
              "      <th>12</th>\n",
              "      <td>Los Angeles Daily  News</td>\n",
              "      <td>185.736</td>\n",
              "      <td>202.614</td>\n",
              "    </tr>\n",
              "    <tr>\n",
              "      <th>13</th>\n",
              "      <td>Los Angeles Times</td>\n",
              "      <td>1164.388</td>\n",
              "      <td>1531.527</td>\n",
              "    </tr>\n",
              "    <tr>\n",
              "      <th>14</th>\n",
              "      <td>Miami Herald</td>\n",
              "      <td>444.581</td>\n",
              "      <td>553.479</td>\n",
              "    </tr>\n",
              "    <tr>\n",
              "      <th>15</th>\n",
              "      <td>Minneapolis Star Tribune</td>\n",
              "      <td>412.871</td>\n",
              "      <td>685.975</td>\n",
              "    </tr>\n",
              "    <tr>\n",
              "      <th>16</th>\n",
              "      <td>New Orleans Times-Picayune</td>\n",
              "      <td>272.280</td>\n",
              "      <td>324.241</td>\n",
              "    </tr>\n",
              "    <tr>\n",
              "      <th>17</th>\n",
              "      <td>New York Daily News</td>\n",
              "      <td>781.796</td>\n",
              "      <td>983.240</td>\n",
              "    </tr>\n",
              "    <tr>\n",
              "      <th>18</th>\n",
              "      <td>New York Times</td>\n",
              "      <td>1209.225</td>\n",
              "      <td>1762.015</td>\n",
              "    </tr>\n",
              "    <tr>\n",
              "      <th>19</th>\n",
              "      <td>Newsday</td>\n",
              "      <td>825.512</td>\n",
              "      <td>960.308</td>\n",
              "    </tr>\n",
              "    <tr>\n",
              "      <th>20</th>\n",
              "      <td>Omaha World Herald</td>\n",
              "      <td>223.748</td>\n",
              "      <td>284.611</td>\n",
              "    </tr>\n",
              "    <tr>\n",
              "      <th>21</th>\n",
              "      <td>Orange County Register</td>\n",
              "      <td>354.843</td>\n",
              "      <td>407.760</td>\n",
              "    </tr>\n",
              "    <tr>\n",
              "      <th>22</th>\n",
              "      <td>Philadelphia Inquirer</td>\n",
              "      <td>515.523</td>\n",
              "      <td>982.663</td>\n",
              "    </tr>\n",
              "    <tr>\n",
              "      <th>23</th>\n",
              "      <td>Pittsburgh Press</td>\n",
              "      <td>220.465</td>\n",
              "      <td>557.000</td>\n",
              "    </tr>\n",
              "    <tr>\n",
              "      <th>24</th>\n",
              "      <td>Portland Oregonian</td>\n",
              "      <td>337.672</td>\n",
              "      <td>440.923</td>\n",
              "    </tr>\n",
              "    <tr>\n",
              "      <th>25</th>\n",
              "      <td>Providence Journal-Bulletin</td>\n",
              "      <td>197.120</td>\n",
              "      <td>268.060</td>\n",
              "    </tr>\n",
              "    <tr>\n",
              "      <th>26</th>\n",
              "      <td>Rochester Democrat &amp; Chronicle</td>\n",
              "      <td>133.239</td>\n",
              "      <td>262.048</td>\n",
              "    </tr>\n",
              "    <tr>\n",
              "      <th>27</th>\n",
              "      <td>Rocky Mountain News</td>\n",
              "      <td>374.009</td>\n",
              "      <td>432.502</td>\n",
              "    </tr>\n",
              "    <tr>\n",
              "      <th>28</th>\n",
              "      <td>Sacramento Bee</td>\n",
              "      <td>273.844</td>\n",
              "      <td>338.355</td>\n",
              "    </tr>\n",
              "    <tr>\n",
              "      <th>29</th>\n",
              "      <td>San Francisco Chronicle</td>\n",
              "      <td>570.364</td>\n",
              "      <td>704.322</td>\n",
              "    </tr>\n",
              "    <tr>\n",
              "      <th>30</th>\n",
              "      <td>St. Louis Post-Dispatch</td>\n",
              "      <td>391.286</td>\n",
              "      <td>585.681</td>\n",
              "    </tr>\n",
              "    <tr>\n",
              "      <th>31</th>\n",
              "      <td>St. Paul Pioneer Press</td>\n",
              "      <td>201.860</td>\n",
              "      <td>267.781</td>\n",
              "    </tr>\n",
              "    <tr>\n",
              "      <th>32</th>\n",
              "      <td>Tampa Tribune</td>\n",
              "      <td>321.626</td>\n",
              "      <td>408.343</td>\n",
              "    </tr>\n",
              "    <tr>\n",
              "      <th>33</th>\n",
              "      <td>Washington Post</td>\n",
              "      <td>838.902</td>\n",
              "      <td>1165.567</td>\n",
              "    </tr>\n",
              "  </tbody>\n",
              "</table>\n",
              "</div>"
            ],
            "text/plain": [
              "                         Newspaper     daily    sunday\n",
              "0                    Baltimore Sun   391.952   488.506\n",
              "1                     Boston Globe   516.981   798.298\n",
              "2                    Boston Herald   355.628   235.084\n",
              "3               Charlotte Observer   238.555   299.451\n",
              "4                Chicago Sun Times   537.780   559.093\n",
              "5                  Chicago Tribune   733.775  1133.249\n",
              "6              Cincinnati Enquirer   198.832   348.744\n",
              "7                      Denver Post   252.624   417.779\n",
              "8              Des Moines Register   206.204   344.522\n",
              "9                 Hartford Courant   231.177   323.084\n",
              "10               Houston Chronicle   449.755   620.752\n",
              "11                Kansas City Star   288.571   423.305\n",
              "12         Los Angeles Daily  News   185.736   202.614\n",
              "13               Los Angeles Times  1164.388  1531.527\n",
              "14                    Miami Herald   444.581   553.479\n",
              "15        Minneapolis Star Tribune   412.871   685.975\n",
              "16      New Orleans Times-Picayune   272.280   324.241\n",
              "17             New York Daily News   781.796   983.240\n",
              "18                  New York Times  1209.225  1762.015\n",
              "19                         Newsday   825.512   960.308\n",
              "20              Omaha World Herald   223.748   284.611\n",
              "21          Orange County Register   354.843   407.760\n",
              "22           Philadelphia Inquirer   515.523   982.663\n",
              "23                Pittsburgh Press   220.465   557.000\n",
              "24              Portland Oregonian   337.672   440.923\n",
              "25     Providence Journal-Bulletin   197.120   268.060\n",
              "26  Rochester Democrat & Chronicle   133.239   262.048\n",
              "27             Rocky Mountain News   374.009   432.502\n",
              "28                  Sacramento Bee   273.844   338.355\n",
              "29         San Francisco Chronicle   570.364   704.322\n",
              "30         St. Louis Post-Dispatch   391.286   585.681\n",
              "31          St. Paul Pioneer Press   201.860   267.781\n",
              "32                   Tampa Tribune   321.626   408.343\n",
              "33                 Washington Post   838.902  1165.567"
            ]
          },
          "execution_count": 3,
          "metadata": {},
          "output_type": "execute_result"
        }
      ],
      "source": [
        "newspaper_data = pd.read_csv('NewspaperData.csv')\n",
        "newspaper_data"
      ]
    },
    {
      "cell_type": "markdown",
      "id": "3d1ef1ba",
      "metadata": {
        "id": "3d1ef1ba"
      },
      "source": [
        "## 3. Data Understanding"
      ]
    },
    {
      "cell_type": "markdown",
      "id": "ca29896f",
      "metadata": {
        "id": "ca29896f"
      },
      "source": [
        "### 3.1 Initial Analysis"
      ]
    },
    {
      "cell_type": "code",
      "execution_count": null,
      "id": "5318c16c",
      "metadata": {
        "id": "5318c16c",
        "outputId": "5ec9ebae-6e19-4e4d-ef59-529588202860"
      },
      "outputs": [
        {
          "data": {
            "text/plain": [
              "(34, 3)"
            ]
          },
          "execution_count": 4,
          "metadata": {},
          "output_type": "execute_result"
        }
      ],
      "source": [
        "newspaper_data.shape"
      ]
    },
    {
      "cell_type": "code",
      "execution_count": null,
      "id": "154236a1",
      "metadata": {
        "id": "154236a1",
        "outputId": "457a19a4-2081-4c33-f8f4-e3398a59f929"
      },
      "outputs": [
        {
          "data": {
            "text/plain": [
              "Newspaper    0\n",
              "daily        0\n",
              "sunday       0\n",
              "dtype: int64"
            ]
          },
          "execution_count": 5,
          "metadata": {},
          "output_type": "execute_result"
        }
      ],
      "source": [
        "newspaper_data.isnull().sum()"
      ]
    },
    {
      "cell_type": "code",
      "execution_count": null,
      "id": "cafee66b",
      "metadata": {
        "id": "cafee66b",
        "outputId": "7befb0c2-bfc0-474e-b06e-481710db216f"
      },
      "outputs": [
        {
          "data": {
            "text/plain": [
              "Newspaper     object\n",
              "daily        float64\n",
              "sunday       float64\n",
              "dtype: object"
            ]
          },
          "execution_count": 6,
          "metadata": {},
          "output_type": "execute_result"
        }
      ],
      "source": [
        "newspaper_data.dtypes"
      ]
    },
    {
      "cell_type": "markdown",
      "id": "a585d744",
      "metadata": {
        "id": "a585d744"
      },
      "source": [
        "### 3.2 ASSUMPTIONS CHECK"
      ]
    },
    {
      "cell_type": "markdown",
      "id": "d6749fb9",
      "metadata": {
        "id": "d6749fb9"
      },
      "source": [
        "#### 1. Normality Test"
      ]
    },
    {
      "cell_type": "code",
      "execution_count": null,
      "id": "fc8e44cd",
      "metadata": {
        "id": "fc8e44cd",
        "outputId": "705261d5-79bc-40f0-94a0-cf339aa6cd9b"
      },
      "outputs": [
        {
          "data": {
            "image/png": "[encoded data removed]",
            "text/plain": [
              "<Figure size 432x288 with 1 Axes>"
            ]
          },
          "metadata": {
            "needs_background": "light"
          },
          "output_type": "display_data"
        }
      ],
      "source": [
        "sns.distplot(a=newspaper_data['daily'],hist=False)\n",
        "plt.title('Daily Feasability')\n",
        "plt.show()"
      ]
    },
    {
      "cell_type": "code",
      "execution_count": null,
      "id": "f45f9c85",
      "metadata": {
        "id": "f45f9c85",
        "outputId": "9b19fc80-ec76-494d-fcd0-c88ca38ae87a"
      },
      "outputs": [
        {
          "data": {
            "text/plain": [
              "1.5321591323040094"
            ]
          },
          "execution_count": 12,
          "metadata": {},
          "output_type": "execute_result"
        }
      ],
      "source": [
        "newspaper_data['daily'].skew()"
      ]
    },
    {
      "cell_type": "code",
      "execution_count": null,
      "id": "7ce98243",
      "metadata": {
        "id": "7ce98243",
        "outputId": "bb8bf765-16a4-44c1-f027-53d70622c057"
      },
      "outputs": [
        {
          "data": {
            "text/plain": [
              "1.999034084097406"
            ]
          },
          "execution_count": 13,
          "metadata": {},
          "output_type": "execute_result"
        }
      ],
      "source": [
        "newspaper_data['daily'].kurtosis()"
      ]
    },
    {
      "cell_type": "markdown",
      "id": "aebcfff4",
      "metadata": {
        "id": "aebcfff4"
      },
      "source": [
        "### Normality Test is FAILED."
      ]
    },
    {
      "cell_type": "markdown",
      "id": "d33b852b",
      "metadata": {
        "id": "d33b852b"
      },
      "source": [
        "### 2. Linearity Test"
      ]
    },
    {
      "cell_type": "code",
      "execution_count": null,
      "id": "37cea66f",
      "metadata": {
        "id": "37cea66f",
        "outputId": "350bf4fc-3527-4a61-b093-ab1ffb65fbc2"
      },
      "outputs": [
        {
          "data": {
            "image/png": "[encoded data removed]",
            "text/plain": [
              "<Figure size 432x288 with 1 Axes>"
            ]
          },
          "metadata": {
            "needs_background": "light"
          },
          "output_type": "display_data"
        }
      ],
      "source": [
        "sns.scatterplot(x='daily',y='sunday',data=newspaper_data)\n",
        "plt.title('Daily Vs Sunday')\n",
        "plt.show()"
      ]
    },
    {
      "cell_type": "code",
      "execution_count": null,
      "id": "f3256efd",
      "metadata": {
        "id": "f3256efd",
        "outputId": "14a2e5df-4608-4ebb-ee8c-24b0556640d7"
      },
      "outputs": [
        {
          "data": {
            "image/png": "[encoded data removed]",
            "text/plain": [
              "<Figure size 360x360 with 1 Axes>"
            ]
          },
          "metadata": {
            "needs_background": "light"
          },
          "output_type": "display_data"
        }
      ],
      "source": [
        "sns.lmplot(x='daily',y='sunday',data=newspaper_data)\n",
        "plt.title('Daily Vs Sunday')\n",
        "plt.show()"
      ]
    },
    {
      "cell_type": "markdown",
      "id": "6a57a4ef",
      "metadata": {
        "id": "6a57a4ef"
      },
      "source": [
        "### Linearity Test also failed."
      ]
    },
    {
      "cell_type": "markdown",
      "id": "41cace51",
      "metadata": {
        "id": "41cace51"
      },
      "source": [
        "### 3. Multicollinearity Test \n",
        "\n",
        "We cannot perform here as we are having onlu one input feature."
      ]
    },
    {
      "cell_type": "markdown",
      "id": "f47ad1f4",
      "metadata": {
        "id": "f47ad1f4"
      },
      "source": [
        "### 4. AutoRegression Test\n",
        "\n",
        "We cannot perform here as we are having only one input feature and that is also not time based feature."
      ]
    },
    {
      "cell_type": "markdown",
      "id": "69bab3e0",
      "metadata": {
        "id": "69bab3e0"
      },
      "source": [
        "### 5. Homoscedasticity Test | 6. Zero Residual Mean Test \n",
        "\n",
        "These 2 Tests can be ony performed post model Training."
      ]
    },
    {
      "cell_type": "markdown",
      "id": "9e1382c1",
      "metadata": {
        "id": "9e1382c1"
      },
      "source": [
        "# 4. Data Preparation"
      ]
    },
    {
      "cell_type": "code",
      "execution_count": null,
      "id": "915c6b10",
      "metadata": {
        "id": "915c6b10"
      },
      "outputs": [],
      "source": [
        "del newspaper_data['Newspaper']"
      ]
    },
    {
      "cell_type": "code",
      "execution_count": null,
      "id": "ebfa6e08",
      "metadata": {
        "id": "ebfa6e08",
        "outputId": "891f5379-d05b-49d2-98d3-effc10dac24b"
      },
      "outputs": [
        {
          "data": {
            "text/html": [
              "<div>\n",
              "<style scoped>\n",
              "    .dataframe tbody tr th:only-of-type {\n",
              "        vertical-align: middle;\n",
              "    }\n",
              "\n",
              "    .dataframe tbody tr th {\n",
              "        vertical-align: top;\n",
              "    }\n",
              "\n",
              "    .dataframe thead th {\n",
              "        text-align: right;\n",
              "    }\n",
              "</style>\n",
              "<table border=\"1\" class=\"dataframe\">\n",
              "  <thead>\n",
              "    <tr style=\"text-align: right;\">\n",
              "      <th></th>\n",
              "      <th>daily</th>\n",
              "      <th>sunday</th>\n",
              "    </tr>\n",
              "  </thead>\n",
              "  <tbody>\n",
              "    <tr>\n",
              "      <th>0</th>\n",
              "      <td>391.952</td>\n",
              "      <td>488.506</td>\n",
              "    </tr>\n",
              "    <tr>\n",
              "      <th>1</th>\n",
              "      <td>516.981</td>\n",
              "      <td>798.298</td>\n",
              "    </tr>\n",
              "    <tr>\n",
              "      <th>2</th>\n",
              "      <td>355.628</td>\n",
              "      <td>235.084</td>\n",
              "    </tr>\n",
              "    <tr>\n",
              "      <th>3</th>\n",
              "      <td>238.555</td>\n",
              "      <td>299.451</td>\n",
              "    </tr>\n",
              "    <tr>\n",
              "      <th>4</th>\n",
              "      <td>537.780</td>\n",
              "      <td>559.093</td>\n",
              "    </tr>\n",
              "  </tbody>\n",
              "</table>\n",
              "</div>"
            ],
            "text/plain": [
              "     daily   sunday\n",
              "0  391.952  488.506\n",
              "1  516.981  798.298\n",
              "2  355.628  235.084\n",
              "3  238.555  299.451\n",
              "4  537.780  559.093"
            ]
          },
          "execution_count": 18,
          "metadata": {},
          "output_type": "execute_result"
        }
      ],
      "source": [
        "newspaper_data.head()"
      ]
    },
    {
      "cell_type": "code",
      "execution_count": null,
      "id": "3691e8fc",
      "metadata": {
        "id": "3691e8fc",
        "outputId": "0f6b016c-6e18-4f1a-dbce-5ab8a529081e"
      },
      "outputs": [
        {
          "data": {
            "text/plain": [
              "daily     0\n",
              "sunday    0\n",
              "dtype: int64"
            ]
          },
          "execution_count": 19,
          "metadata": {},
          "output_type": "execute_result"
        }
      ],
      "source": [
        "newspaper_data.isna().sum()"
      ]
    },
    {
      "cell_type": "code",
      "execution_count": null,
      "id": "d7233761",
      "metadata": {
        "id": "d7233761",
        "outputId": "92ecf988-19e0-42c4-b8ee-4cda067779d3"
      },
      "outputs": [
        {
          "data": {
            "text/plain": [
              "daily     float64\n",
              "sunday    float64\n",
              "dtype: object"
            ]
          },
          "execution_count": 20,
          "metadata": {},
          "output_type": "execute_result"
        }
      ],
      "source": [
        "newspaper_data.dtypes"
      ]
    },
    {
      "cell_type": "markdown",
      "id": "786de256",
      "metadata": {
        "id": "786de256"
      },
      "source": [
        "#### NOTE:\n",
        "\n",
        "Linear Regression can be performed by using 2 libraries:\n",
        "\n",
        "**1. Statsmodels - OLS[Ordinary Least Square]**\n",
        "\n",
        "**2. sklearn - LinearRegression()**"
      ]
    },
    {
      "cell_type": "markdown",
      "id": "a84cd02e",
      "metadata": {
        "id": "a84cd02e"
      },
      "source": [
        "# 5. Model Building || 6. Model Training Using Statsmodels"
      ]
    },
    {
      "cell_type": "code",
      "execution_count": null,
      "id": "d61b9593",
      "metadata": {
        "id": "d61b9593"
      },
      "outputs": [],
      "source": [
        "import statsmodels.formula.api as smf"
      ]
    },
    {
      "cell_type": "code",
      "execution_count": null,
      "id": "e751be07",
      "metadata": {
        "id": "e751be07"
      },
      "outputs": [],
      "source": [
        "linear_model = smf.ols(formula = 'sunday~daily',data = newspaper_data).fit()"
      ]
    },
    {
      "cell_type": "code",
      "execution_count": null,
      "id": "cd274706",
      "metadata": {
        "id": "cd274706",
        "outputId": "2ca06464-37b9-47b1-f4a4-e2ba1e7d2fa2"
      },
      "outputs": [
        {
          "data": {
            "text/plain": [
              "Intercept    13.835630\n",
              "daily         1.339715\n",
              "dtype: float64"
            ]
          },
          "execution_count": 26,
          "metadata": {},
          "output_type": "execute_result"
        }
      ],
      "source": [
        "linear_model.params"
      ]
    },
    {
      "cell_type": "markdown",
      "id": "f3e5e97a",
      "metadata": {
        "id": "f3e5e97a"
      },
      "source": [
        "# 7. Model Testing"
      ]
    },
    {
      "cell_type": "markdown",
      "id": "cbae971a",
      "metadata": {
        "id": "cbae971a"
      },
      "source": [
        "### Manual Testing"
      ]
    },
    {
      "cell_type": "markdown",
      "id": "d534e07e",
      "metadata": {
        "id": "d534e07e"
      },
      "source": [
        "y = mx +c \n",
        "\n",
        "If x = 200, y = ?\n",
        "If x = 350, y = ?\n",
        "If x = 420, y = ?"
      ]
    },
    {
      "cell_type": "code",
      "execution_count": null,
      "id": "f93b95e3",
      "metadata": {
        "id": "f93b95e3",
        "outputId": "7d7bde6b-fadf-46fb-8258-8fe583e5c947"
      },
      "outputs": [
        {
          "data": {
            "text/plain": [
              "281.77862999999996"
            ]
          },
          "execution_count": 27,
          "metadata": {},
          "output_type": "execute_result"
        }
      ],
      "source": [
        "(1.339715*200) + 13.835630"
      ]
    },
    {
      "cell_type": "code",
      "execution_count": null,
      "id": "dbd51ff9",
      "metadata": {
        "id": "dbd51ff9",
        "outputId": "61f482ab-691d-4243-a596-d3e684f1af3b"
      },
      "outputs": [
        {
          "data": {
            "text/plain": [
              "482.73587999999995"
            ]
          },
          "execution_count": 28,
          "metadata": {},
          "output_type": "execute_result"
        }
      ],
      "source": [
        "(1.339715*350) + 13.835630"
      ]
    },
    {
      "cell_type": "code",
      "execution_count": null,
      "id": "a5e579ea",
      "metadata": {
        "id": "a5e579ea",
        "outputId": "f1023cee-02b3-4958-b301-3530d26f2de2"
      },
      "outputs": [
        {
          "data": {
            "text/plain": [
              "576.51593"
            ]
          },
          "execution_count": 29,
          "metadata": {},
          "output_type": "execute_result"
        }
      ],
      "source": [
        "(1.339715*420) + 13.835630"
      ]
    },
    {
      "cell_type": "markdown",
      "id": "68266a95",
      "metadata": {
        "id": "68266a95"
      },
      "source": [
        "#### Machine Prediction"
      ]
    },
    {
      "cell_type": "code",
      "execution_count": null,
      "id": "c9f980e1",
      "metadata": {
        "id": "c9f980e1",
        "outputId": "849fb2e8-862a-4a97-d4e6-1724502dc24e"
      },
      "outputs": [
        {
          "data": {
            "text/html": [
              "<div>\n",
              "<style scoped>\n",
              "    .dataframe tbody tr th:only-of-type {\n",
              "        vertical-align: middle;\n",
              "    }\n",
              "\n",
              "    .dataframe tbody tr th {\n",
              "        vertical-align: top;\n",
              "    }\n",
              "\n",
              "    .dataframe thead th {\n",
              "        text-align: right;\n",
              "    }\n",
              "</style>\n",
              "<table border=\"1\" class=\"dataframe\">\n",
              "  <thead>\n",
              "    <tr style=\"text-align: right;\">\n",
              "      <th></th>\n",
              "      <th>daily</th>\n",
              "    </tr>\n",
              "  </thead>\n",
              "  <tbody>\n",
              "    <tr>\n",
              "      <th>0</th>\n",
              "      <td>200</td>\n",
              "    </tr>\n",
              "    <tr>\n",
              "      <th>1</th>\n",
              "      <td>350</td>\n",
              "    </tr>\n",
              "    <tr>\n",
              "      <th>2</th>\n",
              "      <td>420</td>\n",
              "    </tr>\n",
              "  </tbody>\n",
              "</table>\n",
              "</div>"
            ],
            "text/plain": [
              "   daily\n",
              "0    200\n",
              "1    350\n",
              "2    420"
            ]
          },
          "execution_count": 31,
          "metadata": {},
          "output_type": "execute_result"
        }
      ],
      "source": [
        "test_data = pd.DataFrame(data={'daily':[200,350,420]})\n",
        "test_data"
      ]
    },
    {
      "cell_type": "code",
      "execution_count": null,
      "id": "f57b7e25",
      "metadata": {
        "id": "f57b7e25",
        "outputId": "0545e3ca-2ad6-4e99-9fc9-db3c07c9a37e"
      },
      "outputs": [
        {
          "data": {
            "text/plain": [
              "0    281.778581\n",
              "1    482.735795\n",
              "2    576.515828\n",
              "dtype: float64"
            ]
          },
          "execution_count": 32,
          "metadata": {},
          "output_type": "execute_result"
        }
      ],
      "source": [
        "linear_model.predict(test_data)"
      ]
    },
    {
      "cell_type": "markdown",
      "id": "cc6f65b2",
      "metadata": {
        "id": "cc6f65b2"
      },
      "source": [
        "# 8. Model Evaluation\n",
        "\n",
        "#### PARK"
      ]
    },
    {
      "cell_type": "markdown",
      "id": "18937060",
      "metadata": {
        "id": "18937060"
      },
      "source": [
        "# 9. Model Deployement"
      ]
    },
    {
      "cell_type": "code",
      "execution_count": null,
      "id": "c1aa573c",
      "metadata": {
        "id": "c1aa573c"
      },
      "outputs": [],
      "source": [
        "from pickle import dump"
      ]
    },
    {
      "cell_type": "code",
      "execution_count": null,
      "id": "4dd97353",
      "metadata": {
        "id": "4dd97353"
      },
      "outputs": [],
      "source": [
        "dump(linear_model,open('model.pkl','wb'))"
      ]
    },
    {
      "cell_type": "code",
      "execution_count": null,
      "id": "c4c0cc82",
      "metadata": {
        "id": "c4c0cc82"
      },
      "outputs": [],
      "source": [
        "from pickle import load"
      ]
    },
    {
      "cell_type": "code",
      "execution_count": null,
      "id": "9edd3904",
      "metadata": {
        "id": "9edd3904"
      },
      "outputs": [],
      "source": [
        "loaded_model = load(open('model.pkl','rb'))"
      ]
    },
    {
      "cell_type": "code",
      "execution_count": null,
      "id": "02f55d77",
      "metadata": {
        "id": "02f55d77",
        "outputId": "70d6cecc-de30-4398-a24e-ff734564913a"
      },
      "outputs": [
        {
          "data": {
            "text/plain": [
              "0    281.778581\n",
              "1    482.735795\n",
              "2    576.515828\n",
              "dtype: float64"
            ]
          },
          "execution_count": 39,
          "metadata": {},
          "output_type": "execute_result"
        }
      ],
      "source": [
        "loaded_model.predict(test_data)"
      ]
    },
    {
      "cell_type": "markdown",
      "id": "c525b305",
      "metadata": {
        "id": "c525b305"
      },
      "source": [
        "# THE END"
      ]
    }
  ],
  "metadata": {
    "kernelspec": {
      "display_name": "Python 3",
      "language": "python",
      "name": "python3"
    },
    "language_info": {
      "codemirror_mode": {
        "name": "ipython",
        "version": 3
      },
      "file_extension": ".py",
      "mimetype": "text/x-python",
      "name": "python",
      "nbconvert_exporter": "python",
      "pygments_lexer": "ipython3",
      "version": "3.8.8"
    },
    "colab": {
      "provenance": [],
      "include_colab_link": true
    }
  },
  "nbformat": 4,
  "nbformat_minor": 5
}