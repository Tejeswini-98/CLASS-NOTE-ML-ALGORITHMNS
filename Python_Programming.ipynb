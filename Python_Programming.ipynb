{
  "cells": [
    {
      "cell_type": "markdown",
      "metadata": {
        "id": "view-in-github",
        "colab_type": "text"
      },
      "source": [
        "<a href=\"https://colab.research.google.com/github/Tejeswini-98/CLASS-NOTE-ML-ALGORITHMNS/blob/main/Python_Programming.ipynb\" target=\"_parent\"><img src=\"https://colab.research.google.com/assets/colab-badge.svg\" alt=\"Open In Colab\"/></a>"
      ]
    },
    {
      "cell_type": "markdown",
      "id": "125bea90",
      "metadata": {
        "id": "125bea90"
      },
      "source": [
        "# Chapter 1 - First Python Programming"
      ]
    },
    {
      "cell_type": "markdown",
      "id": "5bca766c",
      "metadata": {
        "id": "5bca766c"
      },
      "source": [
        "## 1[a] Hello World"
      ]
    },
    {
      "cell_type": "code",
      "execution_count": null,
      "id": "c066feee",
      "metadata": {
        "id": "c066feee",
        "outputId": "01493337-6a3a-4f6b-ed95-ebe280850e5d"
      },
      "outputs": [
        {
          "name": "stdout",
          "output_type": "stream",
          "text": [
            "Welcome to Data Science Session.\n"
          ]
        }
      ],
      "source": [
        "print('Welcome to Data Science Session.')"
      ]
    },
    {
      "cell_type": "code",
      "execution_count": null,
      "id": "79febff6",
      "metadata": {
        "id": "79febff6",
        "outputId": "00e8499f-68af-49e3-981a-17fa02c73ee7"
      },
      "outputs": [
        {
          "name": "stdout",
          "output_type": "stream",
          "text": [
            "Anil said, John's session is bit boring.\n"
          ]
        }
      ],
      "source": [
        "print(\"Anil said, John's session is bit boring.\")"
      ]
    },
    {
      "cell_type": "code",
      "execution_count": null,
      "id": "1225101a",
      "metadata": {
        "id": "1225101a",
        "outputId": "6fc07f38-0d87-4969-cc72-6fa5e5b46306"
      },
      "outputs": [
        {
          "name": "stdout",
          "output_type": "stream",
          "text": [
            "Anil replied, \"John's session is bit boring\".\n"
          ]
        }
      ],
      "source": [
        "print(\"\"\"Anil replied, \"John's session is bit boring\".\"\"\")"
      ]
    },
    {
      "cell_type": "code",
      "execution_count": null,
      "id": "0c9a163a",
      "metadata": {
        "id": "0c9a163a",
        "outputId": "b83e25e6-1556-451a-d2ec-d2d608f28162"
      },
      "outputs": [
        {
          "name": "stdout",
          "output_type": "stream",
          "text": [
            "224\n"
          ]
        }
      ],
      "source": [
        "print(67+67+90)"
      ]
    },
    {
      "cell_type": "markdown",
      "id": "2a2dc287",
      "metadata": {
        "id": "2a2dc287"
      },
      "source": [
        "## 1[b] Create  a Variable"
      ]
    },
    {
      "cell_type": "code",
      "execution_count": null,
      "id": "99136cb2",
      "metadata": {
        "id": "99136cb2"
      },
      "outputs": [],
      "source": [
        "participants = 'Aditya','Akash','Divya','Vennela','Aparna'"
      ]
    },
    {
      "cell_type": "code",
      "execution_count": null,
      "id": "86ff7e6d",
      "metadata": {
        "id": "86ff7e6d",
        "outputId": "bd76d40f-8f45-4794-f6e3-6297bc41187c"
      },
      "outputs": [
        {
          "data": {
            "text/plain": [
              "('Aditya', 'Akash', 'Divya', 'Vennela', 'Aparna')"
            ]
          },
          "execution_count": 16,
          "metadata": {},
          "output_type": "execute_result"
        }
      ],
      "source": [
        "participants"
      ]
    },
    {
      "cell_type": "code",
      "execution_count": null,
      "id": "0b7c56f8",
      "metadata": {
        "id": "0b7c56f8",
        "outputId": "7720375c-b0ce-4133-9b74-2373ad5c3756"
      },
      "outputs": [
        {
          "data": {
            "text/plain": [
              "5"
            ]
          },
          "execution_count": 17,
          "metadata": {},
          "output_type": "execute_result"
        }
      ],
      "source": [
        "len(participants)"
      ]
    },
    {
      "cell_type": "code",
      "execution_count": null,
      "id": "17e2df80",
      "metadata": {
        "id": "17e2df80",
        "outputId": "0cbfd074-e781-494e-a298-b848e4d64a12"
      },
      "outputs": [
        {
          "data": {
            "text/plain": [
              "'Vennela'"
            ]
          },
          "execution_count": 19,
          "metadata": {},
          "output_type": "execute_result"
        }
      ],
      "source": [
        "participants[3]"
      ]
    },
    {
      "cell_type": "code",
      "execution_count": null,
      "id": "7043de3b",
      "metadata": {
        "id": "7043de3b",
        "outputId": "e5f7ee26-7af5-4727-f701-567f30f864c3"
      },
      "outputs": [
        {
          "data": {
            "text/plain": [
              "('Akash', 'Divya', 'Vennela')"
            ]
          },
          "execution_count": 28,
          "metadata": {},
          "output_type": "execute_result"
        }
      ],
      "source": [
        "participants[1:4]"
      ]
    },
    {
      "cell_type": "markdown",
      "id": "c1e4db57",
      "metadata": {
        "id": "c1e4db57"
      },
      "source": [
        "# Chapter 2 - Strings and String Methods"
      ]
    },
    {
      "cell_type": "markdown",
      "id": "50726c16",
      "metadata": {
        "id": "50726c16"
      },
      "source": [
        "**3 Datatypes in Python:**\n",
        "1. Int - Integer - only whole numbers\n",
        "2. Float - with decimal points\n",
        "3. String - anything which is enclosed within quotes"
      ]
    },
    {
      "cell_type": "markdown",
      "id": "5526c466",
      "metadata": {
        "id": "5526c466"
      },
      "source": [
        "## 2[a] What is a String?"
      ]
    },
    {
      "cell_type": "code",
      "execution_count": null,
      "id": "af1cf482",
      "metadata": {
        "id": "af1cf482"
      },
      "outputs": [],
      "source": [
        "abhishek_score = 100"
      ]
    },
    {
      "cell_type": "code",
      "execution_count": null,
      "id": "52d7cd3e",
      "metadata": {
        "id": "52d7cd3e",
        "outputId": "2f4e8903-75d7-456c-9de5-2f532d186863"
      },
      "outputs": [
        {
          "data": {
            "text/plain": [
              "int"
            ]
          },
          "execution_count": 33,
          "metadata": {},
          "output_type": "execute_result"
        }
      ],
      "source": [
        "type(abhishek_score)"
      ]
    },
    {
      "cell_type": "code",
      "execution_count": null,
      "id": "b0f5ac3a",
      "metadata": {
        "id": "b0f5ac3a"
      },
      "outputs": [],
      "source": [
        "sathwick_average_marks = '8.5'"
      ]
    },
    {
      "cell_type": "code",
      "execution_count": null,
      "id": "bc109fd6",
      "metadata": {
        "id": "bc109fd6",
        "outputId": "53ebe347-679b-4806-f349-1acc84760569"
      },
      "outputs": [
        {
          "data": {
            "text/plain": [
              "str"
            ]
          },
          "execution_count": 35,
          "metadata": {},
          "output_type": "execute_result"
        }
      ],
      "source": [
        "type(sathwick_average_marks)"
      ]
    },
    {
      "cell_type": "code",
      "execution_count": null,
      "id": "a25635a1",
      "metadata": {
        "id": "a25635a1"
      },
      "outputs": [],
      "source": [
        "sathwick_average_marks = 8.5"
      ]
    },
    {
      "cell_type": "code",
      "execution_count": null,
      "id": "885d7e42",
      "metadata": {
        "id": "885d7e42",
        "outputId": "d29d4e16-6ad4-4396-d663-c2f66462c6e8"
      },
      "outputs": [
        {
          "data": {
            "text/plain": [
              "float"
            ]
          },
          "execution_count": 37,
          "metadata": {},
          "output_type": "execute_result"
        }
      ],
      "source": [
        "type(sathwick_average_marks)"
      ]
    },
    {
      "cell_type": "markdown",
      "id": "ee51b499",
      "metadata": {
        "id": "ee51b499"
      },
      "source": [
        "## 2[b] Concatenation - Indexing - Slicing"
      ]
    },
    {
      "cell_type": "code",
      "execution_count": null,
      "id": "a0b70b78",
      "metadata": {
        "id": "a0b70b78"
      },
      "outputs": [],
      "source": [
        "fname = 'Dhanaxi'\n",
        "lname = 'Mehtani'\n",
        "age = 26"
      ]
    },
    {
      "cell_type": "code",
      "execution_count": null,
      "id": "c0f8cedd",
      "metadata": {
        "id": "c0f8cedd",
        "outputId": "0b3a6ba1-81f7-4b3f-a715-7c4b38a9c8be"
      },
      "outputs": [
        {
          "data": {
            "text/plain": [
              "'Mehtani'"
            ]
          },
          "execution_count": 42,
          "metadata": {},
          "output_type": "execute_result"
        }
      ],
      "source": [
        "fname\n",
        "lname"
      ]
    },
    {
      "cell_type": "code",
      "execution_count": null,
      "id": "8ac8583f",
      "metadata": {
        "id": "8ac8583f",
        "outputId": "c1c0d07e-1c70-42cb-a98a-3c7a3b7a397a"
      },
      "outputs": [
        {
          "data": {
            "text/plain": [
              "('Dhanaxi', 'Mehtani')"
            ]
          },
          "execution_count": 43,
          "metadata": {},
          "output_type": "execute_result"
        }
      ],
      "source": [
        "fname,lname"
      ]
    },
    {
      "cell_type": "code",
      "execution_count": null,
      "id": "3ab40792",
      "metadata": {
        "id": "3ab40792",
        "outputId": "2ea83b0f-052b-4635-ea64-073b73142547"
      },
      "outputs": [
        {
          "name": "stdout",
          "output_type": "stream",
          "text": [
            "Dhanaxi\n",
            "Mehtani\n"
          ]
        }
      ],
      "source": [
        "print(fname)\n",
        "print(lname)"
      ]
    },
    {
      "cell_type": "code",
      "execution_count": null,
      "id": "22f34927",
      "metadata": {
        "id": "22f34927",
        "outputId": "1f9f4b5e-fa0e-4425-cff2-be11b0ceb349"
      },
      "outputs": [
        {
          "name": "stdout",
          "output_type": "stream",
          "text": [
            "Dhanaxi Mehtani\n"
          ]
        }
      ],
      "source": [
        "print(fname,lname)"
      ]
    },
    {
      "cell_type": "code",
      "execution_count": null,
      "id": "53fcccc7",
      "metadata": {
        "id": "53fcccc7",
        "outputId": "22ce5e76-1556-485c-c015-aeaf2427b765"
      },
      "outputs": [
        {
          "name": "stdout",
          "output_type": "stream",
          "text": [
            "First Name :Dhanaxi Last Name : Mehtani\n"
          ]
        }
      ],
      "source": [
        "print('First Name :' + fname + ' Last Name : ' + lname) # String Concatenation"
      ]
    },
    {
      "cell_type": "code",
      "execution_count": null,
      "id": "22ad876f",
      "metadata": {
        "id": "22ad876f",
        "outputId": "d46c7a94-1852-4e12-e658-38108e8b8710"
      },
      "outputs": [
        {
          "name": "stdout",
          "output_type": "stream",
          "text": [
            "First Name :Dhanaxi Last Name : Mehtani Age: 26\n"
          ]
        }
      ],
      "source": [
        "print('First Name :' + fname + ' Last Name : ' + lname + ' Age: ' + str(age)) # Type casting"
      ]
    },
    {
      "cell_type": "code",
      "execution_count": null,
      "id": "a3308d39",
      "metadata": {
        "id": "a3308d39",
        "outputId": "8fbe639e-5a28-4bd2-8cee-424ae7a108ac"
      },
      "outputs": [
        {
          "name": "stdout",
          "output_type": "stream",
          "text": [
            "First Name: Dhanaxi \n",
            "Last Name: Mehtani \n",
            "Age: 26\n"
          ]
        }
      ],
      "source": [
        "print('First Name:',fname,'\\nLast Name:',lname,'\\nAge:',age)"
      ]
    },
    {
      "cell_type": "markdown",
      "id": "6f8ac1b3",
      "metadata": {
        "id": "6f8ac1b3"
      },
      "source": [
        "## 2[c] Manipulating String with Methods"
      ]
    },
    {
      "cell_type": "markdown",
      "id": "9e9b4a53",
      "metadata": {
        "id": "9e9b4a53"
      },
      "source": [
        "**Methods or Functions** : Inorder to do some operation on your variable, we go for Methods. And always a method enclosd with **()**"
      ]
    },
    {
      "cell_type": "code",
      "execution_count": null,
      "id": "5305a53c",
      "metadata": {
        "id": "5305a53c"
      },
      "outputs": [],
      "source": [
        "learner_1 = 'Amit'\n",
        "learner_2 = '  lavanya'\n",
        "learner_3 = 'Aarthy           '\n",
        "learner_4 = '       Sasi     '"
      ]
    },
    {
      "cell_type": "code",
      "execution_count": null,
      "id": "2be13b43",
      "metadata": {
        "id": "2be13b43",
        "outputId": "cd438185-74c8-42a4-8bb1-5ec30bdb7a13"
      },
      "outputs": [
        {
          "name": "stdout",
          "output_type": "stream",
          "text": [
            "Amit\n",
            "  lavanya\n",
            "Aarthy           \n",
            "       Sasi     \n"
          ]
        }
      ],
      "source": [
        "print(learner_1)\n",
        "print(learner_2)\n",
        "print(learner_3)\n",
        "print(learner_4)"
      ]
    },
    {
      "cell_type": "code",
      "execution_count": null,
      "id": "7d10867b",
      "metadata": {
        "id": "7d10867b",
        "outputId": "caa1a7fd-c511-4e14-e9d9-7c23056f1d3c"
      },
      "outputs": [
        {
          "data": {
            "text/plain": [
              "(4, 9, 17, 16)"
            ]
          },
          "execution_count": 69,
          "metadata": {},
          "output_type": "execute_result"
        }
      ],
      "source": [
        "len(learner_1),len(learner_2),len(learner_3),len(learner_4)"
      ]
    },
    {
      "cell_type": "code",
      "execution_count": null,
      "id": "5ac8c5d1",
      "metadata": {
        "id": "5ac8c5d1",
        "outputId": "ae1b1527-770f-4fd7-aef7-e77a19cba5b9"
      },
      "outputs": [
        {
          "data": {
            "text/plain": [
              "'AMIT'"
            ]
          },
          "execution_count": 70,
          "metadata": {},
          "output_type": "execute_result"
        }
      ],
      "source": [
        "learner_1.upper() #Return a copy of the string converted to uppercase."
      ]
    },
    {
      "cell_type": "code",
      "execution_count": null,
      "id": "c5e0c6c9",
      "metadata": {
        "id": "c5e0c6c9",
        "outputId": "7a292a88-e04b-443e-aa64-64a16066e3cb"
      },
      "outputs": [
        {
          "data": {
            "text/plain": [
              "'Lavanya'"
            ]
          },
          "execution_count": 4,
          "metadata": {},
          "output_type": "execute_result"
        }
      ],
      "source": [
        "learner_2.lstrip().capitalize() #Return a copy of the string with leading whitespace removed."
      ]
    },
    {
      "cell_type": "code",
      "execution_count": null,
      "id": "96358c9f",
      "metadata": {
        "id": "96358c9f",
        "outputId": "c36fd65c-5ce5-4d30-ec8b-2428cc0eed63"
      },
      "outputs": [
        {
          "data": {
            "text/plain": [
              "'Aarthy'"
            ]
          },
          "execution_count": 72,
          "metadata": {},
          "output_type": "execute_result"
        }
      ],
      "source": [
        "learner_3.rstrip() #Return a copy of the string with trailing whitespace removed."
      ]
    },
    {
      "cell_type": "code",
      "execution_count": null,
      "id": "1dabd9d0",
      "metadata": {
        "id": "1dabd9d0",
        "outputId": "ef814a31-b06c-4895-938b-a77f1cf32736"
      },
      "outputs": [
        {
          "data": {
            "text/plain": [
              "'Sasi'"
            ]
          },
          "execution_count": 73,
          "metadata": {},
          "output_type": "execute_result"
        }
      ],
      "source": [
        "learner_4.strip() #Return a copy of the string with leading and trailing whitespace removed."
      ]
    },
    {
      "cell_type": "markdown",
      "id": "8cc3d6bd",
      "metadata": {
        "id": "8cc3d6bd"
      },
      "source": [
        "## ===================================================================="
      ]
    },
    {
      "cell_type": "markdown",
      "id": "46f51900",
      "metadata": {
        "id": "46f51900"
      },
      "source": [
        "## DAILY TASK 1 - Come up with 2 examples for all the String Methods."
      ]
    },
    {
      "cell_type": "markdown",
      "id": "9af38205",
      "metadata": {
        "id": "9af38205"
      },
      "source": [
        "## ===================================================================="
      ]
    },
    {
      "cell_type": "markdown",
      "id": "893c6b30",
      "metadata": {
        "id": "893c6b30"
      },
      "source": [
        "## 2[d] Interact with user input"
      ]
    },
    {
      "cell_type": "code",
      "execution_count": null,
      "id": "43063d49",
      "metadata": {
        "id": "43063d49",
        "outputId": "e62e3e26-c3ca-48cc-80e3-ab5de8cd0f12"
      },
      "outputs": [
        {
          "name": "stdout",
          "output_type": "stream",
          "text": [
            "UserName:Dhanaxi\n",
            "Username starts with  D\n"
          ]
        }
      ],
      "source": [
        "user_input = input('UserName:')\n",
        "\n",
        "print('Username starts with ',user_input[0])"
      ]
    },
    {
      "cell_type": "markdown",
      "id": "3e713c6f",
      "metadata": {
        "id": "3e713c6f"
      },
      "source": [
        "## 2[e] Get 2 inputs from the user and print it."
      ]
    },
    {
      "cell_type": "code",
      "execution_count": null,
      "id": "5673bdf3",
      "metadata": {
        "id": "5673bdf3",
        "outputId": "1536eec8-20a7-40c0-918c-27f47c29e7b6"
      },
      "outputs": [
        {
          "name": "stdout",
          "output_type": "stream",
          "text": [
            "enter fav heroSharuk\n",
            "your fav hero is  Sharuk\n",
            "enter fav number5\n",
            "your fav number is : 5\n"
          ]
        }
      ],
      "source": [
        "fav_hero = input('enter fav hero')\n",
        "print('your fav hero is ',fav_hero)\n",
        "\n",
        "fav_number = input('enter fav number')\n",
        "print('your fav number is :',fav_number)\n"
      ]
    },
    {
      "cell_type": "markdown",
      "id": "59a3f886",
      "metadata": {
        "id": "59a3f886"
      },
      "source": [
        "## 2[f] Streamline your Print Statement"
      ]
    },
    {
      "cell_type": "code",
      "execution_count": null,
      "id": "0fd342b3",
      "metadata": {
        "id": "0fd342b3",
        "outputId": "a419ba13-27ae-4a81-dfb2-180dd660ca4b"
      },
      "outputs": [
        {
          "name": "stdout",
          "output_type": "stream",
          "text": [
            "enter fav heroAjith\n",
            "enter fav number654\n",
            "Favourite Hero : Ajith\n",
            " Favourite Number : 654\n"
          ]
        }
      ],
      "source": [
        "fav_hero = input('enter fav hero')\n",
        "fav_number = input('enter fav number')\n",
        "\n",
        "print('Favourite Hero : {}\\n Favourite Number : {}'.format(fav_hero,fav_number))"
      ]
    },
    {
      "cell_type": "markdown",
      "id": "e71df9bb",
      "metadata": {
        "id": "e71df9bb"
      },
      "source": [
        "## ===================================================================="
      ]
    },
    {
      "cell_type": "markdown",
      "id": "2c775e04",
      "metadata": {
        "id": "2c775e04"
      },
      "source": [
        "# Chapter 3 - Numbers in Python"
      ]
    },
    {
      "cell_type": "code",
      "execution_count": null,
      "id": "a4cdda16",
      "metadata": {
        "id": "a4cdda16",
        "outputId": "1747d7c4-0dc7-488f-db94-760a73c976fd"
      },
      "outputs": [
        {
          "name": "stdout",
          "output_type": "stream",
          "text": [
            "Enter your marks : -100\n",
            "Scored Marks :  100\n"
          ]
        }
      ],
      "source": [
        "user_marks = int(input('Enter your marks : '))\n",
        "\n",
        "print('Scored Marks : ',abs(user_marks))"
      ]
    },
    {
      "cell_type": "code",
      "execution_count": null,
      "id": "ed6267fc",
      "metadata": {
        "id": "ed6267fc",
        "outputId": "a5f76a7a-e08d-4c90-f4ac-827c23fe2592"
      },
      "outputs": [
        {
          "data": {
            "text/plain": [
              "int"
            ]
          },
          "execution_count": 17,
          "metadata": {},
          "output_type": "execute_result"
        }
      ],
      "source": [
        "type(user_marks)"
      ]
    },
    {
      "cell_type": "markdown",
      "id": "18f8f5c1",
      "metadata": {
        "id": "18f8f5c1"
      },
      "source": [
        "## ===================================================================="
      ]
    },
    {
      "cell_type": "markdown",
      "id": "12979efd",
      "metadata": {
        "id": "12979efd"
      },
      "source": [
        "# Chapter 4 - Functions and loops\n",
        "\n",
        "**3types of functions in Python:**\n",
        "\n",
        "**1. Built-in Function/Predefined** - this function will get installed when we are Anaconda Navigotor.\n",
        "\n",
        "**2. User-defined Function** - User given function. Customizable.\n",
        "\n",
        "**3. Anonymous Function** - It is a nameless function used to accomplish one task at once."
      ]
    },
    {
      "cell_type": "markdown",
      "id": "7d56b3c6",
      "metadata": {
        "id": "7d56b3c6"
      },
      "source": [
        "## 4[a] Write your own functions"
      ]
    },
    {
      "cell_type": "code",
      "execution_count": null,
      "id": "8a42dd9b",
      "metadata": {
        "id": "8a42dd9b"
      },
      "outputs": [],
      "source": [
        "#Step1: Function Definition\n",
        "def get_details():\n",
        "    print('Hello, Welcome to the 1st function!!')   \n",
        "    print('Thankyou!!')"
      ]
    },
    {
      "cell_type": "code",
      "execution_count": null,
      "id": "9cb475ce",
      "metadata": {
        "id": "9cb475ce",
        "outputId": "ca7923a7-4ccd-41bc-a20d-9497933acda0"
      },
      "outputs": [
        {
          "name": "stdout",
          "output_type": "stream",
          "text": [
            "Hello, Welcome to the 1st function!!\n",
            "Thankyou!!\n"
          ]
        }
      ],
      "source": [
        "#Step2: Call a function\n",
        "get_details()"
      ]
    },
    {
      "cell_type": "markdown",
      "id": "7aed230c",
      "metadata": {
        "id": "7aed230c"
      },
      "source": [
        "### Positional Arguments"
      ]
    },
    {
      "cell_type": "code",
      "execution_count": null,
      "id": "4c478f53",
      "metadata": {
        "id": "4c478f53"
      },
      "outputs": [],
      "source": [
        "def get_numbers(num1,num2):\n",
        "    print(\"Number 1: \",num1)\n",
        "    print(\"Number 2: \",num2)\n",
        "    print('Function Ended')\n",
        "    return num1*num2 #Termination point\n",
        "   "
      ]
    },
    {
      "cell_type": "code",
      "execution_count": null,
      "id": "9ca421f9",
      "metadata": {
        "id": "9ca421f9",
        "outputId": "55d09b5a-defe-465e-8e6f-102acef18107"
      },
      "outputs": [
        {
          "name": "stdout",
          "output_type": "stream",
          "text": [
            "Number 1:  23\n",
            "Number 2:  67\n",
            "Function Ended\n"
          ]
        },
        {
          "data": {
            "text/plain": [
              "1541"
            ]
          },
          "execution_count": 29,
          "metadata": {},
          "output_type": "execute_result"
        }
      ],
      "source": [
        "get_numbers(23,67)"
      ]
    },
    {
      "cell_type": "code",
      "execution_count": null,
      "id": "8f0b0cad",
      "metadata": {
        "id": "8f0b0cad"
      },
      "outputs": [],
      "source": [
        "def get_numbers(num1,num2): #Arguments\n",
        "    print(\"Number 1: \",num1)\n",
        "    print(\"Number 2: \",num2)\n",
        "    print(num1*num2)\n",
        "    return num1*num2 #Termination point"
      ]
    },
    {
      "cell_type": "code",
      "execution_count": null,
      "id": "e6b96f6c",
      "metadata": {
        "id": "e6b96f6c",
        "outputId": "b5494fd2-9c4b-4712-e0bc-67a3299600fa"
      },
      "outputs": [
        {
          "name": "stdout",
          "output_type": "stream",
          "text": [
            "Number 1:  23\n",
            "Number 2:  67\n",
            "1541\n"
          ]
        },
        {
          "data": {
            "text/plain": [
              "1541"
            ]
          },
          "execution_count": 31,
          "metadata": {},
          "output_type": "execute_result"
        }
      ],
      "source": [
        "get_numbers(23,67) #Parameters"
      ]
    },
    {
      "cell_type": "code",
      "execution_count": null,
      "id": "0e2cb749",
      "metadata": {
        "id": "0e2cb749"
      },
      "outputs": [],
      "source": [
        "def get_numbers(num1,num2):\n",
        "    print(\"Number 1: \",num1)\n",
        "    print(\"Number 2: \",num2)\n",
        "    return num1\n",
        "    return num1*num2 #Termination point"
      ]
    },
    {
      "cell_type": "code",
      "execution_count": null,
      "id": "0cb35707",
      "metadata": {
        "id": "0cb35707",
        "outputId": "15e3c775-d76c-4d2a-f96e-7c3314f7afc0"
      },
      "outputs": [
        {
          "name": "stdout",
          "output_type": "stream",
          "text": [
            "Number 1:  23\n",
            "Number 2:  67\n"
          ]
        },
        {
          "data": {
            "text/plain": [
              "23"
            ]
          },
          "execution_count": 33,
          "metadata": {},
          "output_type": "execute_result"
        }
      ],
      "source": [
        "get_numbers(23,67)"
      ]
    },
    {
      "cell_type": "code",
      "execution_count": null,
      "id": "24471d95",
      "metadata": {
        "id": "24471d95"
      },
      "outputs": [],
      "source": []
    },
    {
      "cell_type": "code",
      "execution_count": null,
      "id": "30aceebe",
      "metadata": {
        "id": "30aceebe"
      },
      "outputs": [],
      "source": [
        "def get_learner_details(learner_id,learner_name,age,company):\n",
        "    print('***************************************')\n",
        "    print('Learner ID   : ',learner_id)\n",
        "    print('Learner Name : ',learner_name)\n",
        "    print('Age          : ',age)\n",
        "    print('Workplace    : ',company)\n",
        "    print('***************************************')"
      ]
    },
    {
      "cell_type": "code",
      "execution_count": null,
      "id": "feb4eb1f",
      "metadata": {
        "id": "feb4eb1f",
        "outputId": "29ec95eb-c7d2-4bb2-f19f-d6a78a1ec1c6"
      },
      "outputs": [
        {
          "name": "stdout",
          "output_type": "stream",
          "text": [
            "***************************************\n",
            "Learner ID   :  1\n",
            "Learner Name :  Lavanya\n",
            "Age          :  25\n",
            "Workplace    :  Google\n",
            "***************************************\n"
          ]
        }
      ],
      "source": [
        "get_learner_details(1,'Lavanya',25,'Google')"
      ]
    },
    {
      "cell_type": "code",
      "execution_count": null,
      "id": "407a227b",
      "metadata": {
        "id": "407a227b",
        "outputId": "80a97b3b-2881-4932-c9a0-c1dea7d98fda"
      },
      "outputs": [
        {
          "name": "stdout",
          "output_type": "stream",
          "text": [
            "***************************************\n",
            "Learner ID   :  2\n",
            "Learner Name :  Amit\n",
            "Age          :  27\n",
            "Workplace    :  Google\n",
            "***************************************\n"
          ]
        }
      ],
      "source": [
        "get_learner_details(2,'Amit',27,'Google')"
      ]
    },
    {
      "cell_type": "code",
      "execution_count": null,
      "id": "65851d1d",
      "metadata": {
        "id": "65851d1d",
        "outputId": "ab1bae63-21fe-40fb-a1b6-5406e4e8d082"
      },
      "outputs": [
        {
          "name": "stdout",
          "output_type": "stream",
          "text": [
            "***************************************\n",
            "Learner ID   :  3\n",
            "Learner Name :  Bhagya\n",
            "Age          :  26\n",
            "Workplace    :  Google\n",
            "***************************************\n"
          ]
        }
      ],
      "source": [
        "get_learner_details(3,'Bhagya',26,'Google')"
      ]
    },
    {
      "cell_type": "markdown",
      "id": "124273f1",
      "metadata": {
        "id": "124273f1"
      },
      "source": [
        "### Default Parameter"
      ]
    },
    {
      "cell_type": "code",
      "execution_count": null,
      "id": "172252db",
      "metadata": {
        "id": "172252db"
      },
      "outputs": [],
      "source": [
        "def get_learner_details_2(learner_id,learner_name,age,company = 'Google'):\n",
        "    print('***************************************')\n",
        "    print('Learner ID   : ',learner_id)\n",
        "    print('Learner Name : ',learner_name)\n",
        "    print('Age          : ',age)\n",
        "    print('Workplace    : ',company)\n",
        "    print('***************************************')"
      ]
    },
    {
      "cell_type": "code",
      "execution_count": null,
      "id": "1f365e46",
      "metadata": {
        "id": "1f365e46",
        "outputId": "c5d94726-f0b1-43ba-a781-c6e0de80fc53"
      },
      "outputs": [
        {
          "name": "stdout",
          "output_type": "stream",
          "text": [
            "***************************************\n",
            "Learner ID   :  1\n",
            "Learner Name :  Lavanya\n",
            "Age          :  25\n",
            "Workplace    :  Google\n",
            "***************************************\n"
          ]
        }
      ],
      "source": [
        "get_learner_details_2(1,'Lavanya',25)"
      ]
    },
    {
      "cell_type": "code",
      "execution_count": null,
      "id": "6a734578",
      "metadata": {
        "id": "6a734578",
        "outputId": "9f1ebe10-e5ef-4d9a-99f0-4d72417bfb12"
      },
      "outputs": [
        {
          "name": "stdout",
          "output_type": "stream",
          "text": [
            "***************************************\n",
            "Learner ID   :  2\n",
            "Learner Name :  Amit\n",
            "Age          :  27\n",
            "Workplace    :  Google\n",
            "***************************************\n"
          ]
        }
      ],
      "source": [
        "get_learner_details_2(2,'Amit',27)"
      ]
    },
    {
      "cell_type": "code",
      "execution_count": null,
      "id": "c02baa98",
      "metadata": {
        "id": "c02baa98",
        "outputId": "de6873d2-18ab-4a7f-80fa-c3d0379040f5"
      },
      "outputs": [
        {
          "name": "stdout",
          "output_type": "stream",
          "text": [
            "***************************************\n",
            "Learner ID   :  3\n",
            "Learner Name :  Bhagya\n",
            "Age          :  26\n",
            "Workplace    :  Microsoft\n",
            "***************************************\n"
          ]
        }
      ],
      "source": [
        "get_learner_details(3,'Bhagya',26,'Microsoft')"
      ]
    },
    {
      "cell_type": "markdown",
      "id": "52e0b365",
      "metadata": {
        "id": "52e0b365"
      },
      "source": [
        "### Variable-Length Argument"
      ]
    },
    {
      "cell_type": "code",
      "execution_count": null,
      "id": "480c5aaf",
      "metadata": {
        "id": "480c5aaf"
      },
      "outputs": [],
      "source": [
        "def get_learner_details_3(learner_id,learner_name,age,*company):\n",
        "    print('***************************************')\n",
        "    print('Learner ID   : ',learner_id)\n",
        "    print('Learner Name : ',learner_name)\n",
        "    print('Age          : ',age)\n",
        "    print('Workplace    : ',company)\n",
        "    print('***************************************')"
      ]
    },
    {
      "cell_type": "code",
      "execution_count": null,
      "id": "576bee77",
      "metadata": {
        "id": "576bee77",
        "outputId": "63b7d24b-5f2f-487d-cb19-a7f5ae95ce57"
      },
      "outputs": [
        {
          "name": "stdout",
          "output_type": "stream",
          "text": [
            "***************************************\n",
            "Learner ID   :  1\n",
            "Learner Name :  Lavanya\n",
            "Age          :  25\n",
            "Workplace    :  ('Google', 'IBM', 'Microsoft')\n",
            "***************************************\n"
          ]
        }
      ],
      "source": [
        "get_learner_details_3(1,'Lavanya',25,'Google','IBM','Microsoft')"
      ]
    },
    {
      "cell_type": "markdown",
      "id": "fd46e315",
      "metadata": {
        "id": "fd46e315"
      },
      "source": [
        "### Keyword-Argument"
      ]
    },
    {
      "cell_type": "code",
      "execution_count": null,
      "id": "0263fbe0",
      "metadata": {
        "id": "0263fbe0"
      },
      "outputs": [],
      "source": [
        "def get_learner_details_4(learner_id,learner_name,age,**company):\n",
        "    print('***************************************')\n",
        "    print('Learner ID   : ',learner_id)\n",
        "    print('Learner Name : ',learner_name)\n",
        "    print('Age          : ',age)\n",
        "    print('Workplace    : ',company)\n",
        "    print('***************************************')"
      ]
    },
    {
      "cell_type": "code",
      "execution_count": null,
      "id": "e72fab3b",
      "metadata": {
        "id": "e72fab3b",
        "outputId": "a20cd27d-ae66-45de-9ec1-25a9baaaafef"
      },
      "outputs": [
        {
          "name": "stdout",
          "output_type": "stream",
          "text": [
            "***************************************\n",
            "Learner ID   :  1\n",
            "Learner Name :  Lavanya\n",
            "Age          :  25\n",
            "Workplace    :  {'company_1': 'Google', 'company_2': 'IBM', 'company_3': 'Microsoft'}\n",
            "***************************************\n"
          ]
        }
      ],
      "source": [
        "get_learner_details_4(1,'Lavanya',25,company_1 = 'Google',company_2 = 'IBM',company_3 = 'Microsoft')"
      ]
    },
    {
      "cell_type": "markdown",
      "id": "3c7bdaab",
      "metadata": {
        "id": "3c7bdaab"
      },
      "source": [
        "### Variable-length and Keyword Argument"
      ]
    },
    {
      "cell_type": "code",
      "execution_count": null,
      "id": "77502936",
      "metadata": {
        "id": "77502936"
      },
      "outputs": [],
      "source": [
        "def get_learner_details_5(learner_id,age,*learner_name,**company):\n",
        "    print('***************************************')\n",
        "    print('Learner ID   : ',learner_id)\n",
        "    print('Learner Name : ',learner_name)\n",
        "    print('Age          : ',age)\n",
        "    print('Workplace    : ',company)\n",
        "    print('***************************************')"
      ]
    },
    {
      "cell_type": "code",
      "execution_count": null,
      "id": "b6f4b81c",
      "metadata": {
        "id": "b6f4b81c",
        "outputId": "e9d753fd-f13a-4186-f13f-fc742ec42aa1"
      },
      "outputs": [
        {
          "name": "stdout",
          "output_type": "stream",
          "text": [
            "***************************************\n",
            "Learner ID   :  1\n",
            "Learner Name :  ('Lavanya', 'Divya', 'Shashank')\n",
            "Age          :  25\n",
            "Workplace    :  {'company_1': 'Google', 'company_2': 'IBM', 'company_3': 'Microsoft'}\n",
            "***************************************\n"
          ]
        }
      ],
      "source": [
        "get_learner_details_5(1,25,'Lavanya','Divya','Shashank',company_1 = 'Google',company_2 = 'IBM',company_3 = 'Microsoft')"
      ]
    },
    {
      "cell_type": "markdown",
      "id": "b73b9057",
      "metadata": {
        "id": "b73b9057"
      },
      "source": [
        "## 4[b] Run in circles"
      ]
    },
    {
      "cell_type": "code",
      "execution_count": null,
      "id": "75732c05",
      "metadata": {
        "id": "75732c05",
        "outputId": "a6a4dd03-6d62-404a-be2e-2c03d2203e24"
      },
      "outputs": [
        {
          "name": "stdout",
          "output_type": "stream",
          "text": [
            "2\n",
            "4\n",
            "6\n",
            "8\n",
            "10\n",
            "12\n",
            "14\n",
            "16\n",
            "18\n",
            "20\n"
          ]
        }
      ],
      "source": [
        "for i in range(2,21,2):\n",
        "    print(i)"
      ]
    },
    {
      "cell_type": "markdown",
      "id": "2a1364a2",
      "metadata": {
        "id": "2a1364a2"
      },
      "source": [
        "## ===================================================================="
      ]
    }
  ],
  "metadata": {
    "kernelspec": {
      "display_name": "Python 3",
      "language": "python",
      "name": "python3"
    },
    "language_info": {
      "codemirror_mode": {
        "name": "ipython",
        "version": 3
      },
      "file_extension": ".py",
      "mimetype": "text/x-python",
      "name": "python",
      "nbconvert_exporter": "python",
      "pygments_lexer": "ipython3",
      "version": "3.8.8"
    },
    "colab": {
      "provenance": [],
      "include_colab_link": true
    }
  },
  "nbformat": 4,
  "nbformat_minor": 5
}