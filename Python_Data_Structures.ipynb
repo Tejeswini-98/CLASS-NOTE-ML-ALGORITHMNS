{
  "cells": [
    {
      "cell_type": "markdown",
      "metadata": {
        "id": "view-in-github",
        "colab_type": "text"
      },
      "source": [
        "<a href=\"https://colab.research.google.com/github/Tejeswini-98/CLASS-NOTE-ML-ALGORITHMNS/blob/main/Python_Data_Structures.ipynb\" target=\"_parent\"><img src=\"https://colab.research.google.com/assets/colab-badge.svg\" alt=\"Open In Colab\"/></a>"
      ]
    },
    {
      "cell_type": "markdown",
      "id": "eb6ff5e1",
      "metadata": {
        "id": "eb6ff5e1"
      },
      "source": [
        "# 4 Datastructures in Python\n",
        "\n",
        "1. List\n",
        "2. Sets\n",
        "3. Tuples\n",
        "4. Dict"
      ]
    },
    {
      "cell_type": "markdown",
      "id": "b03ba8df",
      "metadata": {
        "id": "b03ba8df"
      },
      "source": [
        "## 1. List\n",
        "\n",
        "* 1D\n",
        "* Heteregnous\n",
        "* Mutable/Changebale\n",
        "* Allows duplicate elements\n",
        "* Indexable and Sliceable"
      ]
    },
    {
      "cell_type": "code",
      "execution_count": null,
      "id": "c22b613c",
      "metadata": {
        "id": "c22b613c"
      },
      "outputs": [],
      "source": [
        "empty_cart_1 = []"
      ]
    },
    {
      "cell_type": "code",
      "execution_count": null,
      "id": "f8837ebe",
      "metadata": {
        "id": "f8837ebe",
        "outputId": "36e1d323-4134-4ae9-ad2a-59ae40ca958b"
      },
      "outputs": [
        {
          "data": {
            "text/plain": [
              "list"
            ]
          },
          "execution_count": 2,
          "metadata": {},
          "output_type": "execute_result"
        }
      ],
      "source": [
        "type(empty_cart_1)"
      ]
    },
    {
      "cell_type": "code",
      "execution_count": null,
      "id": "a763aa8b",
      "metadata": {
        "id": "a763aa8b",
        "outputId": "60f01999-d22e-4633-ce58-e429dc03b7ca"
      },
      "outputs": [
        {
          "data": {
            "text/plain": [
              "['Aarvi', 'Abhinav', 'Akil', 'Aishwarya', 'Aparna', 'Mariya']"
            ]
          },
          "execution_count": 3,
          "metadata": {},
          "output_type": "execute_result"
        }
      ],
      "source": [
        "learner_names = ['Aarvi','Abhinav','Akil','Aishwarya','Aparna','Mariya']\n",
        "learner_names"
      ]
    },
    {
      "cell_type": "code",
      "execution_count": null,
      "id": "54328e02",
      "metadata": {
        "id": "54328e02",
        "outputId": "130a7fb3-e1fc-4c58-d25c-95a99f1ca463"
      },
      "outputs": [
        {
          "data": {
            "text/plain": [
              "list"
            ]
          },
          "execution_count": 4,
          "metadata": {},
          "output_type": "execute_result"
        }
      ],
      "source": [
        "type(learner_names)"
      ]
    },
    {
      "cell_type": "code",
      "execution_count": null,
      "id": "359bda1f",
      "metadata": {
        "id": "359bda1f",
        "outputId": "a6b36556-9800-4e19-e4a4-fb31880b2701"
      },
      "outputs": [
        {
          "data": {
            "text/plain": [
              "['Aarvi',\n",
              " 'Abhinav',\n",
              " 'Akil',\n",
              " 'Aishwarya',\n",
              " 'Aparna',\n",
              " 'Mariya',\n",
              " 'Abhinav',\n",
              " 'Akil',\n",
              " 'Mariya']"
            ]
          },
          "execution_count": 7,
          "metadata": {},
          "output_type": "execute_result"
        }
      ],
      "source": [
        "learner_names = ['Aarvi','Abhinav','Akil','Aishwarya','Aparna','Mariya','Abhinav','Akil','Mariya']\n",
        "learner_names"
      ]
    },
    {
      "cell_type": "code",
      "execution_count": null,
      "id": "a2eda286",
      "metadata": {
        "id": "a2eda286",
        "outputId": "822fb1c8-c1b9-4082-e891-f64676b5e546"
      },
      "outputs": [
        {
          "data": {
            "text/plain": [
              "'Akil'"
            ]
          },
          "execution_count": 8,
          "metadata": {},
          "output_type": "execute_result"
        }
      ],
      "source": [
        "learner_names[2]"
      ]
    },
    {
      "cell_type": "code",
      "execution_count": null,
      "id": "caa3497b",
      "metadata": {
        "id": "caa3497b",
        "outputId": "4773c59d-373c-4b95-8088-222d79bcaba7"
      },
      "outputs": [
        {
          "data": {
            "text/plain": [
              "['Aparna', 'Mariya', 'Abhinav']"
            ]
          },
          "execution_count": 9,
          "metadata": {},
          "output_type": "execute_result"
        }
      ],
      "source": [
        "learner_names[4:7]"
      ]
    },
    {
      "cell_type": "code",
      "execution_count": null,
      "id": "94430d8d",
      "metadata": {
        "id": "94430d8d",
        "outputId": "fda6dd8c-33e6-43c9-a0be-5e24e3a81f6b"
      },
      "outputs": [
        {
          "data": {
            "text/plain": [
              "['Aarvi',\n",
              " 'Omkar',\n",
              " 'Akil',\n",
              " 'Aishwarya',\n",
              " 'Aparna',\n",
              " 'Mariya',\n",
              " 'Abhinav',\n",
              " 'Akil',\n",
              " 'Mariya']"
            ]
          },
          "execution_count": 11,
          "metadata": {},
          "output_type": "execute_result"
        }
      ],
      "source": [
        "learner_names[1] = 'Omkar'\n",
        "learner_names"
      ]
    },
    {
      "cell_type": "code",
      "execution_count": null,
      "id": "290b4578",
      "metadata": {
        "id": "290b4578"
      },
      "outputs": [],
      "source": [
        "learner_names.append('Prajakta')"
      ]
    },
    {
      "cell_type": "code",
      "execution_count": null,
      "id": "0d3a5820",
      "metadata": {
        "id": "0d3a5820",
        "outputId": "8bff18f8-064a-41ce-df98-ff8e3aade5dd"
      },
      "outputs": [
        {
          "data": {
            "text/plain": [
              "['Aarvi',\n",
              " 'Omkar',\n",
              " 'Akil',\n",
              " 'Aishwarya',\n",
              " 'Aparna',\n",
              " 'Mariya',\n",
              " 'Abhinav',\n",
              " 'Akil',\n",
              " 'Mariya',\n",
              " 'Prajakta']"
            ]
          },
          "execution_count": 24,
          "metadata": {},
          "output_type": "execute_result"
        }
      ],
      "source": [
        "learner_names"
      ]
    },
    {
      "cell_type": "markdown",
      "id": "e92abc70",
      "metadata": {
        "id": "e92abc70"
      },
      "source": [
        "## 2. Sets\n",
        "\n",
        "* 1D\n",
        "* Heteregenous\n",
        "* Mutable\n",
        "* Not duplicates\n",
        "* Not Indexable and Not Sliceable"
      ]
    },
    {
      "cell_type": "code",
      "execution_count": null,
      "id": "95870be7",
      "metadata": {
        "id": "95870be7",
        "outputId": "85b11bad-5441-4e28-9c9f-7d316ea3924c"
      },
      "outputs": [
        {
          "data": {
            "text/plain": [
              "set()"
            ]
          },
          "execution_count": 13,
          "metadata": {},
          "output_type": "execute_result"
        }
      ],
      "source": [
        "empty_cart_2 = set()\n",
        "empty_cart_2"
      ]
    },
    {
      "cell_type": "code",
      "execution_count": null,
      "id": "8720c875",
      "metadata": {
        "id": "8720c875",
        "outputId": "ca0633b4-54db-4488-bb28-fb6a0c16fad2"
      },
      "outputs": [
        {
          "data": {
            "text/plain": [
              "{67, 8.6, 'Aarvi', 'Abhinav', 'Aishwarya', 'Akil', 'Aparna', 'Mariya'}"
            ]
          },
          "execution_count": 35,
          "metadata": {},
          "output_type": "execute_result"
        }
      ],
      "source": [
        "learner_names_2 = {'Aarvi','Abhinav','Akil','Aishwarya','Aparna','Mariya','Abhinav','Akil','Mariya'}\n",
        "learner_names_2"
      ]
    },
    {
      "cell_type": "code",
      "execution_count": null,
      "id": "36348bef",
      "metadata": {
        "id": "36348bef",
        "outputId": "a7cc13eb-86e5-4244-ed74-5f773ffea2a0"
      },
      "outputs": [
        {
          "ename": "TypeError",
          "evalue": "'set' object is not subscriptable",
          "output_type": "error",
          "traceback": [
            "\u001b[1;31m---------------------------------------------------------------------------\u001b[0m",
            "\u001b[1;31mTypeError\u001b[0m                                 Traceback (most recent call last)",
            "\u001b[1;32m<ipython-input-15-c4d189392a96>\u001b[0m in \u001b[0;36m<module>\u001b[1;34m\u001b[0m\n\u001b[1;32m----> 1\u001b[1;33m \u001b[0mlearner_names_2\u001b[0m\u001b[1;33m[\u001b[0m\u001b[1;36m0\u001b[0m\u001b[1;33m]\u001b[0m\u001b[1;33m\u001b[0m\u001b[1;33m\u001b[0m\u001b[0m\n\u001b[0m",
            "\u001b[1;31mTypeError\u001b[0m: 'set' object is not subscriptable"
          ]
        }
      ],
      "source": [
        "learner_names_2[0]"
      ]
    },
    {
      "cell_type": "code",
      "execution_count": null,
      "id": "bdd00988",
      "metadata": {
        "id": "bdd00988",
        "outputId": "cc17dffc-4cd5-4cd5-e15b-dfd68443c7a7"
      },
      "outputs": [
        {
          "ename": "TypeError",
          "evalue": "'set' object is not subscriptable",
          "output_type": "error",
          "traceback": [
            "\u001b[1;31m---------------------------------------------------------------------------\u001b[0m",
            "\u001b[1;31mTypeError\u001b[0m                                 Traceback (most recent call last)",
            "\u001b[1;32m<ipython-input-16-a3710deee55e>\u001b[0m in \u001b[0;36m<module>\u001b[1;34m\u001b[0m\n\u001b[1;32m----> 1\u001b[1;33m \u001b[0mlearner_names_2\u001b[0m\u001b[1;33m[\u001b[0m\u001b[1;33m:\u001b[0m\u001b[1;36m5\u001b[0m\u001b[1;33m]\u001b[0m\u001b[1;33m\u001b[0m\u001b[1;33m\u001b[0m\u001b[0m\n\u001b[0m",
            "\u001b[1;31mTypeError\u001b[0m: 'set' object is not subscriptable"
          ]
        }
      ],
      "source": [
        "learner_names_2[:5]"
      ]
    },
    {
      "cell_type": "code",
      "execution_count": null,
      "id": "b639eff3",
      "metadata": {
        "id": "b639eff3",
        "outputId": "4b6fe18f-ad25-4c17-d6ea-418b31ebf02b"
      },
      "outputs": [
        {
          "ename": "TypeError",
          "evalue": "'set' object does not support item assignment",
          "output_type": "error",
          "traceback": [
            "\u001b[1;31m---------------------------------------------------------------------------\u001b[0m",
            "\u001b[1;31mTypeError\u001b[0m                                 Traceback (most recent call last)",
            "\u001b[1;32m<ipython-input-17-fe635278d8b0>\u001b[0m in \u001b[0;36m<module>\u001b[1;34m\u001b[0m\n\u001b[1;32m----> 1\u001b[1;33m \u001b[0mlearner_names_2\u001b[0m\u001b[1;33m[\u001b[0m\u001b[1;36m0\u001b[0m\u001b[1;33m]\u001b[0m \u001b[1;33m=\u001b[0m \u001b[1;34m'Karthick'\u001b[0m\u001b[1;33m\u001b[0m\u001b[1;33m\u001b[0m\u001b[0m\n\u001b[0m",
            "\u001b[1;31mTypeError\u001b[0m: 'set' object does not support item assignment"
          ]
        }
      ],
      "source": [
        "learner_names_2[0] = 'Karthick'"
      ]
    },
    {
      "cell_type": "code",
      "execution_count": null,
      "id": "e07f76ca",
      "metadata": {
        "id": "e07f76ca",
        "outputId": "3557116d-911c-46f2-c8c6-263670876f0d"
      },
      "outputs": [
        {
          "data": {
            "text/plain": [
              "set"
            ]
          },
          "execution_count": 18,
          "metadata": {},
          "output_type": "execute_result"
        }
      ],
      "source": [
        "type(learner_names_2)"
      ]
    },
    {
      "cell_type": "code",
      "execution_count": null,
      "id": "4646e1fe",
      "metadata": {
        "id": "4646e1fe"
      },
      "outputs": [],
      "source": [
        "learner_names_2.add('Bala')"
      ]
    },
    {
      "cell_type": "code",
      "execution_count": null,
      "id": "16d9b421",
      "metadata": {
        "id": "16d9b421",
        "outputId": "4bebc5df-219f-455f-e107-04936ab7f408"
      },
      "outputs": [
        {
          "data": {
            "text/plain": [
              "{'Aarvi', 'Abhinav', 'Aishwarya', 'Akil', 'Aparna', 'Bala', 'Mariya'}"
            ]
          },
          "execution_count": 20,
          "metadata": {},
          "output_type": "execute_result"
        }
      ],
      "source": [
        "learner_names_2"
      ]
    },
    {
      "cell_type": "code",
      "execution_count": null,
      "id": "7509a61a",
      "metadata": {
        "id": "7509a61a"
      },
      "outputs": [],
      "source": [
        "learner_names_2.clear()"
      ]
    },
    {
      "cell_type": "code",
      "execution_count": null,
      "id": "50e184d9",
      "metadata": {
        "id": "50e184d9",
        "outputId": "dfbf04e8-9ab9-42d1-98e5-4ac0dfebe4a3"
      },
      "outputs": [
        {
          "data": {
            "text/plain": [
              "set()"
            ]
          },
          "execution_count": 22,
          "metadata": {},
          "output_type": "execute_result"
        }
      ],
      "source": [
        "learner_names_2"
      ]
    },
    {
      "cell_type": "markdown",
      "id": "8e7278e0",
      "metadata": {
        "id": "8e7278e0"
      },
      "source": [
        "### Daily Task - 3\n",
        "\n",
        "Explore all data structure related methods. Come up with 1 example."
      ]
    },
    {
      "cell_type": "markdown",
      "id": "52012a1d",
      "metadata": {
        "id": "52012a1d"
      },
      "source": [
        "## 3. Tuple\n",
        "\n",
        "* 1D\n",
        "* Heteregenous\n",
        "* Allows duplicate elements\n",
        "* Not Mutable/Not changeable\n",
        "* Indexable and Sliceable"
      ]
    },
    {
      "cell_type": "code",
      "execution_count": null,
      "id": "53e8f840",
      "metadata": {
        "id": "53e8f840"
      },
      "outputs": [],
      "source": [
        "empty_cart_3 = ()"
      ]
    },
    {
      "cell_type": "code",
      "execution_count": null,
      "id": "59c04685",
      "metadata": {
        "id": "59c04685",
        "outputId": "aaed704d-a315-47a9-c81b-be656e097026"
      },
      "outputs": [
        {
          "data": {
            "text/plain": [
              "tuple"
            ]
          },
          "execution_count": 26,
          "metadata": {},
          "output_type": "execute_result"
        }
      ],
      "source": [
        "type(empty_cart_3)"
      ]
    },
    {
      "cell_type": "code",
      "execution_count": null,
      "id": "aaf5d1f5",
      "metadata": {
        "id": "aaf5d1f5",
        "outputId": "0f0053ee-a853-4152-bc9b-7fc3f52e5aeb"
      },
      "outputs": [
        {
          "data": {
            "text/plain": [
              "('Aarvi',\n",
              " 'Abhinav',\n",
              " 'Akil',\n",
              " 'Aishwarya',\n",
              " 'Aparna',\n",
              " 'Mariya',\n",
              " 'Abhinav',\n",
              " 'Akil',\n",
              " 'Mariya',\n",
              " 1,\n",
              " 2.3)"
            ]
          },
          "execution_count": 34,
          "metadata": {},
          "output_type": "execute_result"
        }
      ],
      "source": [
        "learner_names_3 = ('Aarvi','Abhinav','Akil','Aishwarya','Aparna','Mariya','Abhinav','Akil','Mariya')\n",
        "learner_names_3"
      ]
    },
    {
      "cell_type": "code",
      "execution_count": null,
      "id": "f14e9420",
      "metadata": {
        "id": "f14e9420",
        "outputId": "e8511913-c519-4955-ae50-2053edc8a94a"
      },
      "outputs": [
        {
          "data": {
            "text/plain": [
              "tuple"
            ]
          },
          "execution_count": 28,
          "metadata": {},
          "output_type": "execute_result"
        }
      ],
      "source": [
        "type(learner_names_3)"
      ]
    },
    {
      "cell_type": "code",
      "execution_count": null,
      "id": "4e84a905",
      "metadata": {
        "id": "4e84a905",
        "outputId": "0216f547-63f3-4919-9dc9-d13229266e57"
      },
      "outputs": [
        {
          "data": {
            "text/plain": [
              "('Aarvi',\n",
              " 'Abhinav',\n",
              " 'Akil',\n",
              " 'Aishwarya',\n",
              " 'Aparna',\n",
              " 'Mariya',\n",
              " 'Abhinav',\n",
              " 'Akil',\n",
              " 'Mariya')"
            ]
          },
          "execution_count": 29,
          "metadata": {},
          "output_type": "execute_result"
        }
      ],
      "source": [
        "learner_names_4 = 'Aarvi','Abhinav','Akil','Aishwarya','Aparna','Mariya','Abhinav','Akil','Mariya'\n",
        "learner_names_4"
      ]
    },
    {
      "cell_type": "code",
      "execution_count": null,
      "id": "514afaa0",
      "metadata": {
        "id": "514afaa0",
        "outputId": "1cce20b7-eef7-44b5-9d7b-30d195b6060c"
      },
      "outputs": [
        {
          "data": {
            "text/plain": [
              "tuple"
            ]
          },
          "execution_count": 30,
          "metadata": {},
          "output_type": "execute_result"
        }
      ],
      "source": [
        "type(learner_names_4)"
      ]
    },
    {
      "cell_type": "code",
      "execution_count": null,
      "id": "f3fc52b1",
      "metadata": {
        "id": "f3fc52b1",
        "outputId": "926ba4e7-2966-465b-c858-0f9887560f16"
      },
      "outputs": [
        {
          "data": {
            "text/plain": [
              "'Aarvi'"
            ]
          },
          "execution_count": 31,
          "metadata": {},
          "output_type": "execute_result"
        }
      ],
      "source": [
        "learner_names_4[0]"
      ]
    },
    {
      "cell_type": "code",
      "execution_count": null,
      "id": "e6b78f7e",
      "metadata": {
        "id": "e6b78f7e",
        "outputId": "e80cb950-5379-4ef1-cd62-9725e4c2a73d"
      },
      "outputs": [
        {
          "data": {
            "text/plain": [
              "('Aarvi', 'Abhinav', 'Akil', 'Aishwarya')"
            ]
          },
          "execution_count": 32,
          "metadata": {},
          "output_type": "execute_result"
        }
      ],
      "source": [
        "learner_names_4[:4]"
      ]
    },
    {
      "cell_type": "code",
      "execution_count": null,
      "id": "02fcd48d",
      "metadata": {
        "id": "02fcd48d",
        "outputId": "1ff35816-a6c4-48fb-91de-cab0ce4156dd"
      },
      "outputs": [
        {
          "ename": "TypeError",
          "evalue": "'tuple' object does not support item assignment",
          "output_type": "error",
          "traceback": [
            "\u001b[1;31m---------------------------------------------------------------------------\u001b[0m",
            "\u001b[1;31mTypeError\u001b[0m                                 Traceback (most recent call last)",
            "\u001b[1;32m<ipython-input-33-1d23cf91d8aa>\u001b[0m in \u001b[0;36m<module>\u001b[1;34m\u001b[0m\n\u001b[1;32m----> 1\u001b[1;33m \u001b[0mlearner_names_4\u001b[0m\u001b[1;33m[\u001b[0m\u001b[1;36m0\u001b[0m\u001b[1;33m]\u001b[0m \u001b[1;33m=\u001b[0m \u001b[1;34m'Krithika'\u001b[0m\u001b[1;33m\u001b[0m\u001b[1;33m\u001b[0m\u001b[0m\n\u001b[0m",
            "\u001b[1;31mTypeError\u001b[0m: 'tuple' object does not support item assignment"
          ]
        }
      ],
      "source": [
        "learner_names_4[0] = 'Krithika'"
      ]
    },
    {
      "cell_type": "markdown",
      "id": "28074833",
      "metadata": {
        "id": "28074833"
      },
      "source": [
        "### 4. Dictionary\n",
        "\n",
        "We call it as **Key:value** pair.\n",
        "\n",
        "* 2D\n",
        "* Heteregenous\n",
        "* Not Indexable and not Slicaeble\n",
        "* "
      ]
    },
    {
      "cell_type": "code",
      "execution_count": null,
      "id": "d1c8a659",
      "metadata": {
        "id": "d1c8a659"
      },
      "outputs": [],
      "source": [
        "empty_cart_4 = {}"
      ]
    },
    {
      "cell_type": "code",
      "execution_count": null,
      "id": "5d468b53",
      "metadata": {
        "id": "5d468b53",
        "outputId": "fed09e3a-dbe1-4219-8e5a-2276e51b631d"
      },
      "outputs": [
        {
          "data": {
            "text/plain": [
              "dict"
            ]
          },
          "execution_count": 37,
          "metadata": {},
          "output_type": "execute_result"
        }
      ],
      "source": [
        "type(empty_cart_4)"
      ]
    },
    {
      "cell_type": "code",
      "execution_count": null,
      "id": "17fe89af",
      "metadata": {
        "id": "17fe89af",
        "outputId": "2a3b0ee7-6d04-4cad-e259-2077b96a49e0"
      },
      "outputs": [
        {
          "data": {
            "text/plain": [
              "{'Milk': 2, 'Oats': 1, 'Apple': '1kg'}"
            ]
          },
          "execution_count": 38,
          "metadata": {},
          "output_type": "execute_result"
        }
      ],
      "source": [
        "item_to_buy = {'Milk':2,\n",
        "               'Oats':1,\n",
        "               'Apple':'1kg'}\n",
        "item_to_buy"
      ]
    },
    {
      "cell_type": "code",
      "execution_count": null,
      "id": "29b6b1db",
      "metadata": {
        "id": "29b6b1db",
        "outputId": "5c2da16f-757f-41e6-ec30-a41dd74d9468"
      },
      "outputs": [
        {
          "data": {
            "text/plain": [
              "dict"
            ]
          },
          "execution_count": 39,
          "metadata": {},
          "output_type": "execute_result"
        }
      ],
      "source": [
        "type(item_to_buy)"
      ]
    },
    {
      "cell_type": "code",
      "execution_count": null,
      "id": "5c6fbfa6",
      "metadata": {
        "id": "5c6fbfa6",
        "outputId": "bf364711-da79-4f7b-ad8b-cc15d8363454"
      },
      "outputs": [
        {
          "data": {
            "text/plain": [
              "dict_keys(['Milk', 'Oats', 'Apple'])"
            ]
          },
          "execution_count": 40,
          "metadata": {},
          "output_type": "execute_result"
        }
      ],
      "source": [
        "item_to_buy.keys()"
      ]
    },
    {
      "cell_type": "code",
      "execution_count": null,
      "id": "85b42f5c",
      "metadata": {
        "id": "85b42f5c",
        "outputId": "2fb6f511-7ae7-463c-e917-46a2526dbb31"
      },
      "outputs": [
        {
          "data": {
            "text/plain": [
              "dict_values([2, 1, '1kg'])"
            ]
          },
          "execution_count": 41,
          "metadata": {},
          "output_type": "execute_result"
        }
      ],
      "source": [
        "item_to_buy.values()"
      ]
    },
    {
      "cell_type": "code",
      "execution_count": null,
      "id": "ebb1ef1c",
      "metadata": {
        "id": "ebb1ef1c",
        "outputId": "0354abcf-bf54-49ca-f0e6-f4943a86312a"
      },
      "outputs": [
        {
          "data": {
            "text/plain": [
              "{'fname': 'Lavanya', 'lname': 'Karja', 'age': 27, 'weight': 27}"
            ]
          },
          "execution_count": 50,
          "metadata": {},
          "output_type": "execute_result"
        }
      ],
      "source": [
        "learner_details = {'fname' :'Lavanya',\n",
        "                   'lname' :'Karja',\n",
        "                   'age'   : 27,\n",
        "                   'weight' : 27\n",
        "                  }\n",
        "learner_details"
      ]
    },
    {
      "cell_type": "code",
      "execution_count": null,
      "id": "195c0e11",
      "metadata": {
        "id": "195c0e11",
        "outputId": "40e16b32-3a94-4748-d582-247bc78bdd94"
      },
      "outputs": [
        {
          "data": {
            "text/plain": [
              "{'fname': ['Lavanya', 'Gokul', 'Mariya'],\n",
              " 'lname': ['Karja', 'Raj', 'Sherly'],\n",
              " 'age': [27, 26, 24]}"
            ]
          },
          "execution_count": 51,
          "metadata": {},
          "output_type": "execute_result"
        }
      ],
      "source": [
        "learner_details = {'fname' :['Lavanya','Gokul','Mariya'],\n",
        "                    'lname':['Karja','Raj','Sherly'],\n",
        "                    'age'  :[27,26,24]\n",
        "                  }\n",
        "learner_details"
      ]
    },
    {
      "cell_type": "code",
      "execution_count": null,
      "id": "c242c9ad",
      "metadata": {
        "id": "c242c9ad"
      },
      "outputs": [],
      "source": [
        "import pandas as pd"
      ]
    },
    {
      "cell_type": "code",
      "execution_count": null,
      "id": "f0740077",
      "metadata": {
        "id": "f0740077",
        "outputId": "018c87e7-ec7b-45ac-f224-4e82956f8532"
      },
      "outputs": [
        {
          "data": {
            "text/html": [
              "<div>\n",
              "<style scoped>\n",
              "    .dataframe tbody tr th:only-of-type {\n",
              "        vertical-align: middle;\n",
              "    }\n",
              "\n",
              "    .dataframe tbody tr th {\n",
              "        vertical-align: top;\n",
              "    }\n",
              "\n",
              "    .dataframe thead th {\n",
              "        text-align: right;\n",
              "    }\n",
              "</style>\n",
              "<table border=\"1\" class=\"dataframe\">\n",
              "  <thead>\n",
              "    <tr style=\"text-align: right;\">\n",
              "      <th></th>\n",
              "      <th>fname</th>\n",
              "      <th>lname</th>\n",
              "      <th>age</th>\n",
              "    </tr>\n",
              "  </thead>\n",
              "  <tbody>\n",
              "    <tr>\n",
              "      <th>0</th>\n",
              "      <td>Lavanya</td>\n",
              "      <td>Karja</td>\n",
              "      <td>27</td>\n",
              "    </tr>\n",
              "    <tr>\n",
              "      <th>1</th>\n",
              "      <td>Gokul</td>\n",
              "      <td>Raj</td>\n",
              "      <td>26</td>\n",
              "    </tr>\n",
              "    <tr>\n",
              "      <th>2</th>\n",
              "      <td>Mariya</td>\n",
              "      <td>Sherly</td>\n",
              "      <td>24</td>\n",
              "    </tr>\n",
              "  </tbody>\n",
              "</table>\n",
              "</div>"
            ],
            "text/plain": [
              "     fname   lname  age\n",
              "0  Lavanya   Karja   27\n",
              "1    Gokul     Raj   26\n",
              "2   Mariya  Sherly   24"
            ]
          },
          "execution_count": 47,
          "metadata": {},
          "output_type": "execute_result"
        }
      ],
      "source": [
        "pd.DataFrame(data=learner_details)"
      ]
    },
    {
      "cell_type": "markdown",
      "id": "16781ded",
      "metadata": {
        "id": "16781ded"
      },
      "source": [
        "# THE END!"
      ]
    }
  ],
  "metadata": {
    "kernelspec": {
      "display_name": "Python 3",
      "language": "python",
      "name": "python3"
    },
    "language_info": {
      "codemirror_mode": {
        "name": "ipython",
        "version": 3
      },
      "file_extension": ".py",
      "mimetype": "text/x-python",
      "name": "python",
      "nbconvert_exporter": "python",
      "pygments_lexer": "ipython3",
      "version": "3.8.8"
    },
    "colab": {
      "provenance": [],
      "include_colab_link": true
    }
  },
  "nbformat": 4,
  "nbformat_minor": 5
}