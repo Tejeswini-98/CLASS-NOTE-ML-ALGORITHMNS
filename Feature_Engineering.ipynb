{
  "cells": [
    {
      "cell_type": "markdown",
      "metadata": {
        "id": "view-in-github",
        "colab_type": "text"
      },
      "source": [
        "<a href=\"https://colab.research.google.com/github/Tejeswini-98/CLASS-NOTE-ML-ALGORITHMNS/blob/main/Feature_Engineering.ipynb\" target=\"_parent\"><img src=\"https://colab.research.google.com/assets/colab-badge.svg\" alt=\"Open In Colab\"/></a>"
      ]
    },
    {
      "cell_type": "markdown",
      "id": "b958b1f2",
      "metadata": {
        "id": "b958b1f2"
      },
      "source": [
        "### Feature Engineering\n",
        "\n",
        "Whatever you do wih features, we call it as Feature Engineering.\n",
        "\n",
        "* Feature Elimination    - dropping the features.\n",
        "* Feature Addition       - adding some features.\n",
        "* Feature Transformation - transforming the given feature values into an another scale - Log Tranformation, Sqrt Transformation..\n",
        "* Feature Selection      - deciding which features are important out of many features and choosing that features for model building."
      ]
    },
    {
      "cell_type": "markdown",
      "id": "39d0904e",
      "metadata": {
        "id": "39d0904e"
      },
      "source": [
        "#### Feature Selection Techniques\n",
        "\n",
        "* sklearn - SelectFromModel\n",
        "* sklearn - RFE(ie,Recursive Feature Elimination)"
      ]
    },
    {
      "cell_type": "markdown",
      "id": "a6f30109",
      "metadata": {
        "id": "a6f30109"
      },
      "source": [
        "## 1. Import Necessary libraries"
      ]
    },
    {
      "cell_type": "code",
      "execution_count": null,
      "id": "8c2f991d",
      "metadata": {
        "id": "8c2f991d"
      },
      "outputs": [],
      "source": [
        "import pandas as pd\n",
        "\n",
        "from sklearn.datasets import load_breast_cancer\n",
        "from sklearn.model_selection import train_test_split\n",
        "from sklearn.metrics import accuracy_score,precision_score,recall_score,confusion_matrix\n",
        "\n",
        "from sklearn.ensemble import GradientBoostingClassifier,RandomForestClassifier\n",
        "from sklearn.feature_selection import RFE,SelectFromModel\n",
        "\n",
        "import warnings\n",
        "warnings.filterwarnings('ignore')"
      ]
    },
    {
      "cell_type": "markdown",
      "id": "707faf90",
      "metadata": {
        "id": "707faf90"
      },
      "source": [
        "## 2. Import Data"
      ]
    },
    {
      "cell_type": "code",
      "execution_count": null,
      "id": "932a53cc",
      "metadata": {
        "id": "932a53cc"
      },
      "outputs": [],
      "source": [
        "cancer_data = load_breast_cancer()"
      ]
    },
    {
      "cell_type": "code",
      "execution_count": null,
      "id": "ccc9a1a8",
      "metadata": {
        "id": "ccc9a1a8",
        "outputId": "6941d137-6f11-4029-86e2-fb5cd7d039ab"
      },
      "outputs": [
        {
          "data": {
            "text/html": [
              "<div>\n",
              "<style scoped>\n",
              "    .dataframe tbody tr th:only-of-type {\n",
              "        vertical-align: middle;\n",
              "    }\n",
              "\n",
              "    .dataframe tbody tr th {\n",
              "        vertical-align: top;\n",
              "    }\n",
              "\n",
              "    .dataframe thead th {\n",
              "        text-align: right;\n",
              "    }\n",
              "</style>\n",
              "<table border=\"1\" class=\"dataframe\">\n",
              "  <thead>\n",
              "    <tr style=\"text-align: right;\">\n",
              "      <th></th>\n",
              "      <th>mean radius</th>\n",
              "      <th>mean texture</th>\n",
              "      <th>mean perimeter</th>\n",
              "      <th>mean area</th>\n",
              "      <th>mean smoothness</th>\n",
              "      <th>mean compactness</th>\n",
              "      <th>mean concavity</th>\n",
              "      <th>mean concave points</th>\n",
              "      <th>mean symmetry</th>\n",
              "      <th>mean fractal dimension</th>\n",
              "      <th>...</th>\n",
              "      <th>worst texture</th>\n",
              "      <th>worst perimeter</th>\n",
              "      <th>worst area</th>\n",
              "      <th>worst smoothness</th>\n",
              "      <th>worst compactness</th>\n",
              "      <th>worst concavity</th>\n",
              "      <th>worst concave points</th>\n",
              "      <th>worst symmetry</th>\n",
              "      <th>worst fractal dimension</th>\n",
              "      <th>target</th>\n",
              "    </tr>\n",
              "  </thead>\n",
              "  <tbody>\n",
              "    <tr>\n",
              "      <th>0</th>\n",
              "      <td>17.99</td>\n",
              "      <td>10.38</td>\n",
              "      <td>122.80</td>\n",
              "      <td>1001.0</td>\n",
              "      <td>0.11840</td>\n",
              "      <td>0.27760</td>\n",
              "      <td>0.30010</td>\n",
              "      <td>0.14710</td>\n",
              "      <td>0.2419</td>\n",
              "      <td>0.07871</td>\n",
              "      <td>...</td>\n",
              "      <td>17.33</td>\n",
              "      <td>184.60</td>\n",
              "      <td>2019.0</td>\n",
              "      <td>0.16220</td>\n",
              "      <td>0.66560</td>\n",
              "      <td>0.7119</td>\n",
              "      <td>0.2654</td>\n",
              "      <td>0.4601</td>\n",
              "      <td>0.11890</td>\n",
              "      <td>0</td>\n",
              "    </tr>\n",
              "    <tr>\n",
              "      <th>1</th>\n",
              "      <td>20.57</td>\n",
              "      <td>17.77</td>\n",
              "      <td>132.90</td>\n",
              "      <td>1326.0</td>\n",
              "      <td>0.08474</td>\n",
              "      <td>0.07864</td>\n",
              "      <td>0.08690</td>\n",
              "      <td>0.07017</td>\n",
              "      <td>0.1812</td>\n",
              "      <td>0.05667</td>\n",
              "      <td>...</td>\n",
              "      <td>23.41</td>\n",
              "      <td>158.80</td>\n",
              "      <td>1956.0</td>\n",
              "      <td>0.12380</td>\n",
              "      <td>0.18660</td>\n",
              "      <td>0.2416</td>\n",
              "      <td>0.1860</td>\n",
              "      <td>0.2750</td>\n",
              "      <td>0.08902</td>\n",
              "      <td>0</td>\n",
              "    </tr>\n",
              "    <tr>\n",
              "      <th>2</th>\n",
              "      <td>19.69</td>\n",
              "      <td>21.25</td>\n",
              "      <td>130.00</td>\n",
              "      <td>1203.0</td>\n",
              "      <td>0.10960</td>\n",
              "      <td>0.15990</td>\n",
              "      <td>0.19740</td>\n",
              "      <td>0.12790</td>\n",
              "      <td>0.2069</td>\n",
              "      <td>0.05999</td>\n",
              "      <td>...</td>\n",
              "      <td>25.53</td>\n",
              "      <td>152.50</td>\n",
              "      <td>1709.0</td>\n",
              "      <td>0.14440</td>\n",
              "      <td>0.42450</td>\n",
              "      <td>0.4504</td>\n",
              "      <td>0.2430</td>\n",
              "      <td>0.3613</td>\n",
              "      <td>0.08758</td>\n",
              "      <td>0</td>\n",
              "    </tr>\n",
              "    <tr>\n",
              "      <th>3</th>\n",
              "      <td>11.42</td>\n",
              "      <td>20.38</td>\n",
              "      <td>77.58</td>\n",
              "      <td>386.1</td>\n",
              "      <td>0.14250</td>\n",
              "      <td>0.28390</td>\n",
              "      <td>0.24140</td>\n",
              "      <td>0.10520</td>\n",
              "      <td>0.2597</td>\n",
              "      <td>0.09744</td>\n",
              "      <td>...</td>\n",
              "      <td>26.50</td>\n",
              "      <td>98.87</td>\n",
              "      <td>567.7</td>\n",
              "      <td>0.20980</td>\n",
              "      <td>0.86630</td>\n",
              "      <td>0.6869</td>\n",
              "      <td>0.2575</td>\n",
              "      <td>0.6638</td>\n",
              "      <td>0.17300</td>\n",
              "      <td>0</td>\n",
              "    </tr>\n",
              "    <tr>\n",
              "      <th>4</th>\n",
              "      <td>20.29</td>\n",
              "      <td>14.34</td>\n",
              "      <td>135.10</td>\n",
              "      <td>1297.0</td>\n",
              "      <td>0.10030</td>\n",
              "      <td>0.13280</td>\n",
              "      <td>0.19800</td>\n",
              "      <td>0.10430</td>\n",
              "      <td>0.1809</td>\n",
              "      <td>0.05883</td>\n",
              "      <td>...</td>\n",
              "      <td>16.67</td>\n",
              "      <td>152.20</td>\n",
              "      <td>1575.0</td>\n",
              "      <td>0.13740</td>\n",
              "      <td>0.20500</td>\n",
              "      <td>0.4000</td>\n",
              "      <td>0.1625</td>\n",
              "      <td>0.2364</td>\n",
              "      <td>0.07678</td>\n",
              "      <td>0</td>\n",
              "    </tr>\n",
              "    <tr>\n",
              "      <th>...</th>\n",
              "      <td>...</td>\n",
              "      <td>...</td>\n",
              "      <td>...</td>\n",
              "      <td>...</td>\n",
              "      <td>...</td>\n",
              "      <td>...</td>\n",
              "      <td>...</td>\n",
              "      <td>...</td>\n",
              "      <td>...</td>\n",
              "      <td>...</td>\n",
              "      <td>...</td>\n",
              "      <td>...</td>\n",
              "      <td>...</td>\n",
              "      <td>...</td>\n",
              "      <td>...</td>\n",
              "      <td>...</td>\n",
              "      <td>...</td>\n",
              "      <td>...</td>\n",
              "      <td>...</td>\n",
              "      <td>...</td>\n",
              "      <td>...</td>\n",
              "    </tr>\n",
              "    <tr>\n",
              "      <th>564</th>\n",
              "      <td>21.56</td>\n",
              "      <td>22.39</td>\n",
              "      <td>142.00</td>\n",
              "      <td>1479.0</td>\n",
              "      <td>0.11100</td>\n",
              "      <td>0.11590</td>\n",
              "      <td>0.24390</td>\n",
              "      <td>0.13890</td>\n",
              "      <td>0.1726</td>\n",
              "      <td>0.05623</td>\n",
              "      <td>...</td>\n",
              "      <td>26.40</td>\n",
              "      <td>166.10</td>\n",
              "      <td>2027.0</td>\n",
              "      <td>0.14100</td>\n",
              "      <td>0.21130</td>\n",
              "      <td>0.4107</td>\n",
              "      <td>0.2216</td>\n",
              "      <td>0.2060</td>\n",
              "      <td>0.07115</td>\n",
              "      <td>0</td>\n",
              "    </tr>\n",
              "    <tr>\n",
              "      <th>565</th>\n",
              "      <td>20.13</td>\n",
              "      <td>28.25</td>\n",
              "      <td>131.20</td>\n",
              "      <td>1261.0</td>\n",
              "      <td>0.09780</td>\n",
              "      <td>0.10340</td>\n",
              "      <td>0.14400</td>\n",
              "      <td>0.09791</td>\n",
              "      <td>0.1752</td>\n",
              "      <td>0.05533</td>\n",
              "      <td>...</td>\n",
              "      <td>38.25</td>\n",
              "      <td>155.00</td>\n",
              "      <td>1731.0</td>\n",
              "      <td>0.11660</td>\n",
              "      <td>0.19220</td>\n",
              "      <td>0.3215</td>\n",
              "      <td>0.1628</td>\n",
              "      <td>0.2572</td>\n",
              "      <td>0.06637</td>\n",
              "      <td>0</td>\n",
              "    </tr>\n",
              "    <tr>\n",
              "      <th>566</th>\n",
              "      <td>16.60</td>\n",
              "      <td>28.08</td>\n",
              "      <td>108.30</td>\n",
              "      <td>858.1</td>\n",
              "      <td>0.08455</td>\n",
              "      <td>0.10230</td>\n",
              "      <td>0.09251</td>\n",
              "      <td>0.05302</td>\n",
              "      <td>0.1590</td>\n",
              "      <td>0.05648</td>\n",
              "      <td>...</td>\n",
              "      <td>34.12</td>\n",
              "      <td>126.70</td>\n",
              "      <td>1124.0</td>\n",
              "      <td>0.11390</td>\n",
              "      <td>0.30940</td>\n",
              "      <td>0.3403</td>\n",
              "      <td>0.1418</td>\n",
              "      <td>0.2218</td>\n",
              "      <td>0.07820</td>\n",
              "      <td>0</td>\n",
              "    </tr>\n",
              "    <tr>\n",
              "      <th>567</th>\n",
              "      <td>20.60</td>\n",
              "      <td>29.33</td>\n",
              "      <td>140.10</td>\n",
              "      <td>1265.0</td>\n",
              "      <td>0.11780</td>\n",
              "      <td>0.27700</td>\n",
              "      <td>0.35140</td>\n",
              "      <td>0.15200</td>\n",
              "      <td>0.2397</td>\n",
              "      <td>0.07016</td>\n",
              "      <td>...</td>\n",
              "      <td>39.42</td>\n",
              "      <td>184.60</td>\n",
              "      <td>1821.0</td>\n",
              "      <td>0.16500</td>\n",
              "      <td>0.86810</td>\n",
              "      <td>0.9387</td>\n",
              "      <td>0.2650</td>\n",
              "      <td>0.4087</td>\n",
              "      <td>0.12400</td>\n",
              "      <td>0</td>\n",
              "    </tr>\n",
              "    <tr>\n",
              "      <th>568</th>\n",
              "      <td>7.76</td>\n",
              "      <td>24.54</td>\n",
              "      <td>47.92</td>\n",
              "      <td>181.0</td>\n",
              "      <td>0.05263</td>\n",
              "      <td>0.04362</td>\n",
              "      <td>0.00000</td>\n",
              "      <td>0.00000</td>\n",
              "      <td>0.1587</td>\n",
              "      <td>0.05884</td>\n",
              "      <td>...</td>\n",
              "      <td>30.37</td>\n",
              "      <td>59.16</td>\n",
              "      <td>268.6</td>\n",
              "      <td>0.08996</td>\n",
              "      <td>0.06444</td>\n",
              "      <td>0.0000</td>\n",
              "      <td>0.0000</td>\n",
              "      <td>0.2871</td>\n",
              "      <td>0.07039</td>\n",
              "      <td>1</td>\n",
              "    </tr>\n",
              "  </tbody>\n",
              "</table>\n",
              "<p>569 rows × 31 columns</p>\n",
              "</div>"
            ],
            "text/plain": [
              "     mean radius  mean texture  mean perimeter  mean area  mean smoothness  \\\n",
              "0          17.99         10.38          122.80     1001.0          0.11840   \n",
              "1          20.57         17.77          132.90     1326.0          0.08474   \n",
              "2          19.69         21.25          130.00     1203.0          0.10960   \n",
              "3          11.42         20.38           77.58      386.1          0.14250   \n",
              "4          20.29         14.34          135.10     1297.0          0.10030   \n",
              "..           ...           ...             ...        ...              ...   \n",
              "564        21.56         22.39          142.00     1479.0          0.11100   \n",
              "565        20.13         28.25          131.20     1261.0          0.09780   \n",
              "566        16.60         28.08          108.30      858.1          0.08455   \n",
              "567        20.60         29.33          140.10     1265.0          0.11780   \n",
              "568         7.76         24.54           47.92      181.0          0.05263   \n",
              "\n",
              "     mean compactness  mean concavity  mean concave points  mean symmetry  \\\n",
              "0             0.27760         0.30010              0.14710         0.2419   \n",
              "1             0.07864         0.08690              0.07017         0.1812   \n",
              "2             0.15990         0.19740              0.12790         0.2069   \n",
              "3             0.28390         0.24140              0.10520         0.2597   \n",
              "4             0.13280         0.19800              0.10430         0.1809   \n",
              "..                ...             ...                  ...            ...   \n",
              "564           0.11590         0.24390              0.13890         0.1726   \n",
              "565           0.10340         0.14400              0.09791         0.1752   \n",
              "566           0.10230         0.09251              0.05302         0.1590   \n",
              "567           0.27700         0.35140              0.15200         0.2397   \n",
              "568           0.04362         0.00000              0.00000         0.1587   \n",
              "\n",
              "     mean fractal dimension  ...  worst texture  worst perimeter  worst area  \\\n",
              "0                   0.07871  ...          17.33           184.60      2019.0   \n",
              "1                   0.05667  ...          23.41           158.80      1956.0   \n",
              "2                   0.05999  ...          25.53           152.50      1709.0   \n",
              "3                   0.09744  ...          26.50            98.87       567.7   \n",
              "4                   0.05883  ...          16.67           152.20      1575.0   \n",
              "..                      ...  ...            ...              ...         ...   \n",
              "564                 0.05623  ...          26.40           166.10      2027.0   \n",
              "565                 0.05533  ...          38.25           155.00      1731.0   \n",
              "566                 0.05648  ...          34.12           126.70      1124.0   \n",
              "567                 0.07016  ...          39.42           184.60      1821.0   \n",
              "568                 0.05884  ...          30.37            59.16       268.6   \n",
              "\n",
              "     worst smoothness  worst compactness  worst concavity  \\\n",
              "0             0.16220            0.66560           0.7119   \n",
              "1             0.12380            0.18660           0.2416   \n",
              "2             0.14440            0.42450           0.4504   \n",
              "3             0.20980            0.86630           0.6869   \n",
              "4             0.13740            0.20500           0.4000   \n",
              "..                ...                ...              ...   \n",
              "564           0.14100            0.21130           0.4107   \n",
              "565           0.11660            0.19220           0.3215   \n",
              "566           0.11390            0.30940           0.3403   \n",
              "567           0.16500            0.86810           0.9387   \n",
              "568           0.08996            0.06444           0.0000   \n",
              "\n",
              "     worst concave points  worst symmetry  worst fractal dimension  target  \n",
              "0                  0.2654          0.4601                  0.11890       0  \n",
              "1                  0.1860          0.2750                  0.08902       0  \n",
              "2                  0.2430          0.3613                  0.08758       0  \n",
              "3                  0.2575          0.6638                  0.17300       0  \n",
              "4                  0.1625          0.2364                  0.07678       0  \n",
              "..                    ...             ...                      ...     ...  \n",
              "564                0.2216          0.2060                  0.07115       0  \n",
              "565                0.1628          0.2572                  0.06637       0  \n",
              "566                0.1418          0.2218                  0.07820       0  \n",
              "567                0.2650          0.4087                  0.12400       0  \n",
              "568                0.0000          0.2871                  0.07039       1  \n",
              "\n",
              "[569 rows x 31 columns]"
            ]
          },
          "execution_count": 8,
          "metadata": {},
          "output_type": "execute_result"
        }
      ],
      "source": [
        "cancer_df = pd.DataFrame(data = cancer_data.data,columns = cancer_data.feature_names)\n",
        "cancer_df['target'] = cancer_data.target\n",
        "cancer_df"
      ]
    },
    {
      "cell_type": "markdown",
      "id": "eab522db",
      "metadata": {
        "id": "eab522db"
      },
      "source": [
        "## 3. Model Building"
      ]
    },
    {
      "cell_type": "code",
      "execution_count": null,
      "id": "63e6177d",
      "metadata": {
        "id": "63e6177d"
      },
      "outputs": [],
      "source": [
        "X = cancer_df.drop('target',axis = 1)\n",
        "y = cancer_df[['target']]"
      ]
    },
    {
      "cell_type": "code",
      "execution_count": null,
      "id": "4eced8b7",
      "metadata": {
        "id": "4eced8b7"
      },
      "outputs": [],
      "source": [
        "X_train,X_test,y_train,y_test = train_test_split(X,y,test_size=0.20,random_state=12,stratify=y)"
      ]
    },
    {
      "cell_type": "code",
      "execution_count": null,
      "id": "316f5398",
      "metadata": {
        "id": "316f5398",
        "outputId": "51fe5299-8479-4881-96d4-43c06933caae"
      },
      "outputs": [
        {
          "data": {
            "text/plain": [
              "((455, 30), (455, 1))"
            ]
          },
          "execution_count": 12,
          "metadata": {},
          "output_type": "execute_result"
        }
      ],
      "source": [
        "X_train.shape,y_train.shape"
      ]
    },
    {
      "cell_type": "code",
      "execution_count": null,
      "id": "5a4c7768",
      "metadata": {
        "id": "5a4c7768",
        "outputId": "396d2b99-af46-4f83-e330-b7a21b3687e0"
      },
      "outputs": [
        {
          "data": {
            "text/plain": [
              "((114, 30), (114, 1))"
            ]
          },
          "execution_count": 13,
          "metadata": {},
          "output_type": "execute_result"
        }
      ],
      "source": [
        "X_test.shape,y_test.shape"
      ]
    },
    {
      "cell_type": "markdown",
      "id": "3591f578",
      "metadata": {
        "id": "3591f578"
      },
      "source": [
        "# FEATURE SELECTION TECHNIQUES"
      ]
    },
    {
      "cell_type": "markdown",
      "id": "82ea947a",
      "metadata": {
        "id": "82ea947a"
      },
      "source": [
        "## 1. SelectFromModel Technique"
      ]
    },
    {
      "cell_type": "code",
      "execution_count": null,
      "id": "89124b43",
      "metadata": {
        "id": "89124b43",
        "outputId": "637be163-9dea-40c9-bebc-101cacfe9456"
      },
      "outputs": [
        {
          "data": {
            "text/plain": [
              "SelectFromModel(estimator=RandomForestClassifier())"
            ]
          },
          "execution_count": 129,
          "metadata": {},
          "output_type": "execute_result"
        }
      ],
      "source": [
        "select_from_model = SelectFromModel(estimator = RandomForestClassifier(),max_features=None)\n",
        "select_from_model.fit(X_train,y_train)"
      ]
    },
    {
      "cell_type": "code",
      "execution_count": null,
      "id": "546fade8",
      "metadata": {
        "id": "546fade8",
        "outputId": "c8f4d060-60c0-4772-8003-f20d16e9e0b9"
      },
      "outputs": [
        {
          "data": {
            "text/plain": [
              "array([ True, False,  True,  True, False, False,  True,  True, False,\n",
              "       False, False, False, False, False, False, False, False, False,\n",
              "       False, False,  True, False,  True,  True, False, False, False,\n",
              "        True, False, False])"
            ]
          },
          "execution_count": 130,
          "metadata": {},
          "output_type": "execute_result"
        }
      ],
      "source": [
        "select_from_model.get_support()"
      ]
    },
    {
      "cell_type": "code",
      "execution_count": null,
      "id": "c4e71726",
      "metadata": {
        "id": "c4e71726",
        "outputId": "7139980d-93a0-4884-a27a-bbb3c65e0be4"
      },
      "outputs": [
        {
          "data": {
            "text/plain": [
              "Index(['mean radius', 'mean perimeter', 'mean area', 'mean concavity',\n",
              "       'mean concave points', 'worst radius', 'worst perimeter', 'worst area',\n",
              "       'worst concave points'],\n",
              "      dtype='object')"
            ]
          },
          "execution_count": 131,
          "metadata": {},
          "output_type": "execute_result"
        }
      ],
      "source": [
        "X_train.columns[select_from_model.get_support()]"
      ]
    },
    {
      "cell_type": "code",
      "execution_count": null,
      "id": "ae06d655",
      "metadata": {
        "id": "ae06d655"
      },
      "outputs": [],
      "source": [
        "X_train_selected_features = select_from_model.transform(X_train)\n",
        "X_test_selected_features  = select_from_model.transform(X_test)"
      ]
    },
    {
      "cell_type": "code",
      "execution_count": null,
      "id": "1b8aa31e",
      "metadata": {
        "id": "1b8aa31e",
        "outputId": "383a6032-7a55-436c-f240-d2340c36d12b"
      },
      "outputs": [
        {
          "data": {
            "text/plain": [
              "(455, 8)"
            ]
          },
          "execution_count": 128,
          "metadata": {},
          "output_type": "execute_result"
        }
      ],
      "source": [
        "X_train_selected_features.shape"
      ]
    },
    {
      "cell_type": "code",
      "execution_count": null,
      "id": "926ff9ef",
      "metadata": {
        "id": "926ff9ef",
        "outputId": "1c09ca80-22a2-473f-968a-5ef50330b664"
      },
      "outputs": [
        {
          "data": {
            "text/plain": [
              "(114, 9)"
            ]
          },
          "execution_count": 36,
          "metadata": {},
          "output_type": "execute_result"
        }
      ],
      "source": [
        "X_test_selected_features.shape"
      ]
    },
    {
      "cell_type": "code",
      "execution_count": null,
      "id": "baf653b3",
      "metadata": {
        "id": "baf653b3"
      },
      "outputs": [],
      "source": [
        "def run_RandomForestClassifier(X_train,y_train,X_test,y_test):\n",
        "    rf_classifier = RandomForestClassifier(random_state=12)\n",
        "    rf_classifier.fit(X_train,y_train) #30features\n",
        "\n",
        "    y_pred = rf_classifier.predict(X_test)\n",
        "\n",
        "    print('Accuracy Score  : ',round(accuracy_score(y_test,y_pred),4))\n",
        "    print('Precision Score : ',round(precision_score(y_test,y_pred),4))\n",
        "    print('Recall Score    : ',round(recall_score(y_test,y_pred),4))\n",
        "    print('Confusion Matrix:\\n',confusion_matrix(y_test,y_pred))"
      ]
    },
    {
      "cell_type": "code",
      "execution_count": null,
      "id": "519a0cec",
      "metadata": {
        "id": "519a0cec",
        "outputId": "a9579968-3675-46c8-89a3-9dac6b2b8dab"
      },
      "outputs": [
        {
          "name": "stdout",
          "output_type": "stream",
          "text": [
            "Accuracy Score  :  0.9561\n",
            "Precision Score :  0.9718\n",
            "Recall Score    :  0.9583\n",
            "Confusion Matrix:\n",
            " [[40  2]\n",
            " [ 3 69]]\n",
            "Wall time: 298 ms\n"
          ]
        }
      ],
      "source": [
        "%%time\n",
        "run_RandomForestClassifier(X_train,y_train,X_test,y_test) #30features"
      ]
    },
    {
      "cell_type": "code",
      "execution_count": null,
      "id": "43c125dd",
      "metadata": {
        "id": "43c125dd",
        "outputId": "8c19239f-94e0-4893-eb41-0c8f4c47a2f0"
      },
      "outputs": [
        {
          "name": "stdout",
          "output_type": "stream",
          "text": [
            "Accuracy Score  :  0.9386\n",
            "Precision Score :  0.9577\n",
            "Recall Score    :  0.9444\n",
            "Confusion Matrix:\n",
            " [[39  3]\n",
            " [ 4 68]]\n",
            "Wall time: 266 ms\n"
          ]
        }
      ],
      "source": [
        "%%time\n",
        "run_RandomForestClassifier(X_train_selected_features,y_train,X_test_selected_features,y_test) #9features"
      ]
    },
    {
      "cell_type": "markdown",
      "id": "382e2f28",
      "metadata": {
        "id": "382e2f28"
      },
      "source": [
        "## 2. RFE - Recursive Feature Elimination"
      ]
    },
    {
      "cell_type": "code",
      "execution_count": null,
      "id": "4933e55d",
      "metadata": {
        "id": "4933e55d",
        "outputId": "af28f478-39b9-4e93-c856-ac8723db1e11"
      },
      "outputs": [
        {
          "data": {
            "text/plain": [
              "RFE(estimator=RandomForestClassifier())"
            ]
          },
          "execution_count": 43,
          "metadata": {},
          "output_type": "execute_result"
        }
      ],
      "source": [
        "rfe_model = RFE(estimator = RandomForestClassifier(),n_features_to_select=None)\n",
        "rfe_model.fit(X_train,y_train)"
      ]
    },
    {
      "cell_type": "code",
      "execution_count": null,
      "id": "54370559",
      "metadata": {
        "id": "54370559",
        "outputId": "665eae82-62f9-44e6-b1a3-a04e54f6dbc0"
      },
      "outputs": [
        {
          "data": {
            "text/plain": [
              "array([ True,  True,  True,  True, False, False,  True,  True, False,\n",
              "       False,  True, False, False,  True, False, False, False, False,\n",
              "       False, False,  True,  True,  True,  True, False, False,  True,\n",
              "        True,  True, False])"
            ]
          },
          "execution_count": 44,
          "metadata": {},
          "output_type": "execute_result"
        }
      ],
      "source": [
        "rfe_model.get_support()"
      ]
    },
    {
      "cell_type": "code",
      "execution_count": null,
      "id": "3abef716",
      "metadata": {
        "id": "3abef716",
        "outputId": "a19e13ac-7b91-4ead-c586-d7b2a835321c"
      },
      "outputs": [
        {
          "data": {
            "text/plain": [
              "Index(['mean radius', 'mean texture', 'mean perimeter', 'mean area',\n",
              "       'mean concavity', 'mean concave points', 'radius error', 'area error',\n",
              "       'worst radius', 'worst texture', 'worst perimeter', 'worst area',\n",
              "       'worst concavity', 'worst concave points', 'worst symmetry'],\n",
              "      dtype='object')"
            ]
          },
          "execution_count": 46,
          "metadata": {},
          "output_type": "execute_result"
        }
      ],
      "source": [
        "X_train.columns[rfe_model.get_support()]"
      ]
    },
    {
      "cell_type": "code",
      "execution_count": null,
      "id": "9b564bfd",
      "metadata": {
        "id": "9b564bfd",
        "outputId": "ffa25ecd-6837-4e33-c3b7-ec433700eaa4"
      },
      "outputs": [
        {
          "data": {
            "text/plain": [
              "15"
            ]
          },
          "execution_count": 47,
          "metadata": {},
          "output_type": "execute_result"
        }
      ],
      "source": [
        "len(X_train.columns[rfe_model.get_support()])"
      ]
    },
    {
      "cell_type": "code",
      "execution_count": null,
      "id": "9d7edc10",
      "metadata": {
        "id": "9d7edc10"
      },
      "outputs": [],
      "source": [
        "X_train_rfe_selected = rfe_model.transform(X_train)\n",
        "X_test_rfe_selected  = rfe_model.transform(X_test)"
      ]
    },
    {
      "cell_type": "code",
      "execution_count": null,
      "id": "3a8ca790",
      "metadata": {
        "id": "3a8ca790",
        "outputId": "ef7387e2-83a0-4c9f-8109-68294b24f797"
      },
      "outputs": [
        {
          "data": {
            "text/plain": [
              "(455, 15)"
            ]
          },
          "execution_count": 49,
          "metadata": {},
          "output_type": "execute_result"
        }
      ],
      "source": [
        "X_train_rfe_selected.shape"
      ]
    },
    {
      "cell_type": "code",
      "execution_count": null,
      "id": "0a44688c",
      "metadata": {
        "id": "0a44688c",
        "outputId": "6c4b1647-bcec-4b45-d7f0-139c3dd8778b"
      },
      "outputs": [
        {
          "data": {
            "text/plain": [
              "(114, 15)"
            ]
          },
          "execution_count": 51,
          "metadata": {},
          "output_type": "execute_result"
        }
      ],
      "source": [
        "X_test_rfe_selected.shape"
      ]
    },
    {
      "cell_type": "code",
      "execution_count": null,
      "id": "f7b87b4b",
      "metadata": {
        "id": "f7b87b4b",
        "outputId": "3125595b-bbf0-4e43-9932-4aabea8910c3"
      },
      "outputs": [
        {
          "name": "stdout",
          "output_type": "stream",
          "text": [
            "Accuracy Score  :  0.9737\n",
            "Precision Score :  0.9726\n",
            "Recall Score    :  0.9861\n",
            "Confusion Matrix:\n",
            " [[40  2]\n",
            " [ 1 71]]\n",
            "Wall time: 266 ms\n"
          ]
        }
      ],
      "source": [
        "%%time\n",
        "run_RandomForestClassifier(X_train_rfe_selected,y_train,X_test_rfe_selected,y_test)"
      ]
    },
    {
      "cell_type": "markdown",
      "id": "0cd01fb9",
      "metadata": {
        "id": "0cd01fb9"
      },
      "source": [
        "### Pick up the important features of Gradient Boosting Algorithm and train it with RFClassifier"
      ]
    },
    {
      "cell_type": "code",
      "execution_count": null,
      "id": "a4c47b46",
      "metadata": {
        "id": "a4c47b46",
        "outputId": "dd87b0ed-0a11-4e52-e244-4a64008a13f5"
      },
      "outputs": [
        {
          "data": {
            "text/plain": [
              "RFE(estimator=GradientBoostingClassifier(random_state=12),\n",
              "    n_features_to_select=13)"
            ]
          },
          "execution_count": 80,
          "metadata": {},
          "output_type": "execute_result"
        }
      ],
      "source": [
        "rfe_model = RFE(estimator = GradientBoostingClassifier(random_state=12),n_features_to_select=13)\n",
        "rfe_model.fit(X_train,y_train)"
      ]
    },
    {
      "cell_type": "code",
      "execution_count": null,
      "id": "d3463951",
      "metadata": {
        "id": "d3463951",
        "outputId": "0f97739d-89f9-419c-bc1b-0bce6e51583d"
      },
      "outputs": [
        {
          "data": {
            "text/plain": [
              "array([False,  True, False,  True, False, False,  True,  True, False,\n",
              "       False, False, False, False,  True, False, False,  True, False,\n",
              "       False,  True,  True,  True, False,  True, False, False,  True,\n",
              "        True,  True, False])"
            ]
          },
          "execution_count": 81,
          "metadata": {},
          "output_type": "execute_result"
        }
      ],
      "source": [
        "rfe_model.get_support()"
      ]
    },
    {
      "cell_type": "code",
      "execution_count": null,
      "id": "a089e866",
      "metadata": {
        "id": "a089e866",
        "outputId": "714ca098-f157-4153-b73a-163bdfc9aa61"
      },
      "outputs": [
        {
          "data": {
            "text/plain": [
              "Index(['mean texture', 'mean area', 'mean concavity', 'mean concave points',\n",
              "       'area error', 'concavity error', 'fractal dimension error',\n",
              "       'worst radius', 'worst texture', 'worst area', 'worst concavity',\n",
              "       'worst concave points', 'worst symmetry'],\n",
              "      dtype='object')"
            ]
          },
          "execution_count": 82,
          "metadata": {},
          "output_type": "execute_result"
        }
      ],
      "source": [
        "X_train.columns[rfe_model.get_support()]"
      ]
    },
    {
      "cell_type": "code",
      "execution_count": null,
      "id": "c69b9069",
      "metadata": {
        "id": "c69b9069",
        "outputId": "f892f2c2-ddcd-4aaa-c25b-ddcbc3ed8aef"
      },
      "outputs": [
        {
          "data": {
            "text/plain": [
              "13"
            ]
          },
          "execution_count": 83,
          "metadata": {},
          "output_type": "execute_result"
        }
      ],
      "source": [
        "len(X_train.columns[rfe_model.get_support()])"
      ]
    },
    {
      "cell_type": "code",
      "execution_count": null,
      "id": "bd6b1bcc",
      "metadata": {
        "id": "bd6b1bcc"
      },
      "outputs": [],
      "source": [
        "X_train_rfe_selected = rfe_model.transform(X_train)\n",
        "X_test_rfe_selected  = rfe_model.transform(X_test)"
      ]
    },
    {
      "cell_type": "code",
      "execution_count": null,
      "id": "d66b1742",
      "metadata": {
        "id": "d66b1742",
        "outputId": "42640341-2024-4a3e-ae7f-ae05852d67c7"
      },
      "outputs": [
        {
          "data": {
            "text/plain": [
              "(455, 13)"
            ]
          },
          "execution_count": 85,
          "metadata": {},
          "output_type": "execute_result"
        }
      ],
      "source": [
        "X_train_rfe_selected.shape"
      ]
    },
    {
      "cell_type": "code",
      "execution_count": null,
      "id": "20f87b5c",
      "metadata": {
        "id": "20f87b5c",
        "outputId": "72f41c92-58ca-482a-dc17-c9299afc85bd"
      },
      "outputs": [
        {
          "data": {
            "text/plain": [
              "(114, 13)"
            ]
          },
          "execution_count": 86,
          "metadata": {},
          "output_type": "execute_result"
        }
      ],
      "source": [
        "X_test_rfe_selected.shape"
      ]
    },
    {
      "cell_type": "code",
      "execution_count": null,
      "id": "077c7634",
      "metadata": {
        "id": "077c7634",
        "outputId": "4d349eb9-0be6-4758-abfb-75de14f289cf"
      },
      "outputs": [
        {
          "name": "stdout",
          "output_type": "stream",
          "text": [
            "Accuracy Score  :  0.9561\n",
            "Precision Score :  0.9718\n",
            "Recall Score    :  0.9583\n",
            "Confusion Matrix:\n",
            " [[40  2]\n",
            " [ 3 69]]\n",
            "Wall time: 291 ms\n"
          ]
        }
      ],
      "source": [
        "%%time\n",
        "run_RandomForestClassifier(X_train_rfe_selected,y_train,X_test_rfe_selected,y_test)"
      ]
    },
    {
      "cell_type": "markdown",
      "id": "8b66e891",
      "metadata": {
        "id": "8b66e891"
      },
      "source": [
        "### How to decide the optimal number of features for training?"
      ]
    },
    {
      "cell_type": "code",
      "execution_count": null,
      "id": "d5664c00",
      "metadata": {
        "id": "d5664c00",
        "outputId": "02415fc2-a3e7-48cd-e212-2ff0c044d873"
      },
      "outputs": [
        {
          "name": "stdout",
          "output_type": "stream",
          "text": [
            "Selected Features :  1\n",
            "Accuracy Score  :  0.8158\n",
            "Precision Score :  0.8696\n",
            "Recall Score    :  0.8333\n",
            "Confusion Matrix:\n",
            " [[33  9]\n",
            " [12 60]]\n",
            "************************************************\n",
            "Selected Features :  2\n",
            "Accuracy Score  :  0.9035\n",
            "Precision Score :  0.9296\n",
            "Recall Score    :  0.9167\n",
            "Confusion Matrix:\n",
            " [[37  5]\n",
            " [ 6 66]]\n",
            "************************************************\n",
            "Selected Features :  3\n",
            "Accuracy Score  :  0.9211\n",
            "Precision Score :  0.9315\n",
            "Recall Score    :  0.9444\n",
            "Confusion Matrix:\n",
            " [[37  5]\n",
            " [ 4 68]]\n",
            "************************************************\n",
            "Selected Features :  4\n",
            "Accuracy Score  :  0.9649\n",
            "Precision Score :  0.9595\n",
            "Recall Score    :  0.9861\n",
            "Confusion Matrix:\n",
            " [[39  3]\n",
            " [ 1 71]]\n",
            "************************************************\n",
            "Selected Features :  5\n",
            "Accuracy Score  :  0.9474\n",
            "Precision Score :  0.9583\n",
            "Recall Score    :  0.9583\n",
            "Confusion Matrix:\n",
            " [[39  3]\n",
            " [ 3 69]]\n",
            "************************************************\n",
            "Selected Features :  6\n",
            "Accuracy Score  :  0.9561\n",
            "Precision Score :  0.9718\n",
            "Recall Score    :  0.9583\n",
            "Confusion Matrix:\n",
            " [[40  2]\n",
            " [ 3 69]]\n",
            "************************************************\n",
            "Selected Features :  7\n",
            "Accuracy Score  :  0.9737\n",
            "Precision Score :  0.9726\n",
            "Recall Score    :  0.9861\n",
            "Confusion Matrix:\n",
            " [[40  2]\n",
            " [ 1 71]]\n",
            "************************************************\n",
            "Selected Features :  8\n",
            "Accuracy Score  :  0.9474\n",
            "Precision Score :  0.9583\n",
            "Recall Score    :  0.9583\n",
            "Confusion Matrix:\n",
            " [[39  3]\n",
            " [ 3 69]]\n",
            "************************************************\n",
            "Selected Features :  9\n",
            "Accuracy Score  :  0.9737\n",
            "Precision Score :  0.9726\n",
            "Recall Score    :  0.9861\n",
            "Confusion Matrix:\n",
            " [[40  2]\n",
            " [ 1 71]]\n",
            "************************************************\n",
            "Selected Features :  10\n",
            "Accuracy Score  :  0.9649\n",
            "Precision Score :  0.9722\n",
            "Recall Score    :  0.9722\n",
            "Confusion Matrix:\n",
            " [[40  2]\n",
            " [ 2 70]]\n",
            "************************************************\n",
            "Selected Features :  11\n",
            "Accuracy Score  :  0.9649\n",
            "Precision Score :  0.9722\n",
            "Recall Score    :  0.9722\n",
            "Confusion Matrix:\n",
            " [[40  2]\n",
            " [ 2 70]]\n",
            "************************************************\n",
            "Selected Features :  12\n",
            "Accuracy Score  :  0.9649\n",
            "Precision Score :  0.9722\n",
            "Recall Score    :  0.9722\n",
            "Confusion Matrix:\n",
            " [[40  2]\n",
            " [ 2 70]]\n",
            "************************************************\n",
            "Selected Features :  13\n",
            "Accuracy Score  :  0.9561\n",
            "Precision Score :  0.9718\n",
            "Recall Score    :  0.9583\n",
            "Confusion Matrix:\n",
            " [[40  2]\n",
            " [ 3 69]]\n",
            "************************************************\n",
            "Selected Features :  14\n",
            "Accuracy Score  :  0.9474\n",
            "Precision Score :  0.9714\n",
            "Recall Score    :  0.9444\n",
            "Confusion Matrix:\n",
            " [[40  2]\n",
            " [ 4 68]]\n",
            "************************************************\n",
            "Selected Features :  15\n",
            "Accuracy Score  :  0.9649\n",
            "Precision Score :  0.9722\n",
            "Recall Score    :  0.9722\n",
            "Confusion Matrix:\n",
            " [[40  2]\n",
            " [ 2 70]]\n",
            "************************************************\n",
            "Selected Features :  16\n",
            "Accuracy Score  :  0.9649\n",
            "Precision Score :  0.9722\n",
            "Recall Score    :  0.9722\n",
            "Confusion Matrix:\n",
            " [[40  2]\n",
            " [ 2 70]]\n",
            "************************************************\n",
            "Selected Features :  17\n",
            "Accuracy Score  :  0.9649\n",
            "Precision Score :  0.9722\n",
            "Recall Score    :  0.9722\n",
            "Confusion Matrix:\n",
            " [[40  2]\n",
            " [ 2 70]]\n",
            "************************************************\n",
            "Selected Features :  18\n",
            "Accuracy Score  :  0.9561\n",
            "Precision Score :  0.9718\n",
            "Recall Score    :  0.9583\n",
            "Confusion Matrix:\n",
            " [[40  2]\n",
            " [ 3 69]]\n",
            "************************************************\n",
            "Selected Features :  19\n",
            "Accuracy Score  :  0.9561\n",
            "Precision Score :  0.9718\n",
            "Recall Score    :  0.9583\n",
            "Confusion Matrix:\n",
            " [[40  2]\n",
            " [ 3 69]]\n",
            "************************************************\n",
            "Selected Features :  20\n",
            "Accuracy Score  :  0.9737\n",
            "Precision Score :  0.9726\n",
            "Recall Score    :  0.9861\n",
            "Confusion Matrix:\n",
            " [[40  2]\n",
            " [ 1 71]]\n",
            "************************************************\n",
            "Selected Features :  21\n",
            "Accuracy Score  :  0.9474\n",
            "Precision Score :  0.9583\n",
            "Recall Score    :  0.9583\n",
            "Confusion Matrix:\n",
            " [[39  3]\n",
            " [ 3 69]]\n",
            "************************************************\n",
            "Selected Features :  22\n",
            "Accuracy Score  :  0.9649\n",
            "Precision Score :  0.9722\n",
            "Recall Score    :  0.9722\n",
            "Confusion Matrix:\n",
            " [[40  2]\n",
            " [ 2 70]]\n",
            "************************************************\n",
            "Selected Features :  23\n",
            "Accuracy Score  :  0.9649\n",
            "Precision Score :  0.9722\n",
            "Recall Score    :  0.9722\n",
            "Confusion Matrix:\n",
            " [[40  2]\n",
            " [ 2 70]]\n",
            "************************************************\n",
            "Selected Features :  24\n",
            "Accuracy Score  :  0.9561\n",
            "Precision Score :  0.9718\n",
            "Recall Score    :  0.9583\n",
            "Confusion Matrix:\n",
            " [[40  2]\n",
            " [ 3 69]]\n",
            "************************************************\n",
            "Selected Features :  25\n",
            "Accuracy Score  :  0.9649\n",
            "Precision Score :  0.9722\n",
            "Recall Score    :  0.9722\n",
            "Confusion Matrix:\n",
            " [[40  2]\n",
            " [ 2 70]]\n",
            "************************************************\n",
            "Selected Features :  26\n",
            "Accuracy Score  :  0.9561\n",
            "Precision Score :  0.9718\n",
            "Recall Score    :  0.9583\n",
            "Confusion Matrix:\n",
            " [[40  2]\n",
            " [ 3 69]]\n",
            "************************************************\n",
            "Selected Features :  27\n",
            "Accuracy Score  :  0.9561\n",
            "Precision Score :  0.9718\n",
            "Recall Score    :  0.9583\n",
            "Confusion Matrix:\n",
            " [[40  2]\n",
            " [ 3 69]]\n",
            "************************************************\n",
            "Selected Features :  28\n",
            "Accuracy Score  :  0.9561\n",
            "Precision Score :  0.9718\n",
            "Recall Score    :  0.9583\n",
            "Confusion Matrix:\n",
            " [[40  2]\n",
            " [ 3 69]]\n",
            "************************************************\n",
            "Selected Features :  29\n",
            "Accuracy Score  :  0.9561\n",
            "Precision Score :  0.9718\n",
            "Recall Score    :  0.9583\n",
            "Confusion Matrix:\n",
            " [[40  2]\n",
            " [ 3 69]]\n",
            "************************************************\n",
            "Selected Features :  30\n",
            "Accuracy Score  :  0.9561\n",
            "Precision Score :  0.9718\n",
            "Recall Score    :  0.9583\n",
            "Confusion Matrix:\n",
            " [[40  2]\n",
            " [ 3 69]]\n",
            "************************************************\n"
          ]
        }
      ],
      "source": [
        "for i in range(1,31):\n",
        "    rfe_model = RFE(estimator = GradientBoostingClassifier(random_state=12),n_features_to_select=i)\n",
        "    rfe_model.fit(X_train,y_train)\n",
        "    X_train_rfe_selected = rfe_model.transform(X_train)\n",
        "    X_test_rfe_selected  = rfe_model.transform(X_test)\n",
        "    print('Selected Features : ',i)\n",
        "    run_RandomForestClassifier(X_train_rfe_selected,y_train,X_test_rfe_selected,y_test)\n",
        "    print('************************************************')    "
      ]
    },
    {
      "cell_type": "code",
      "execution_count": null,
      "id": "1b712a26",
      "metadata": {
        "id": "1b712a26",
        "outputId": "ea0c8616-c49a-4813-f8b1-824e9676dcda"
      },
      "outputs": [
        {
          "data": {
            "text/plain": [
              "RFE(estimator=GradientBoostingClassifier(random_state=12),\n",
              "    n_features_to_select=7)"
            ]
          },
          "execution_count": 90,
          "metadata": {},
          "output_type": "execute_result"
        }
      ],
      "source": [
        "rfe_model = RFE(estimator = GradientBoostingClassifier(random_state=12),n_features_to_select=7)\n",
        "rfe_model.fit(X_train,y_train)"
      ]
    },
    {
      "cell_type": "code",
      "execution_count": null,
      "id": "b9379402",
      "metadata": {
        "id": "b9379402",
        "outputId": "05001f78-b5c6-4970-a61b-b07e0820f12b"
      },
      "outputs": [
        {
          "data": {
            "text/plain": [
              "Index(['mean texture', 'mean concavity', 'mean concave points', 'area error',\n",
              "       'worst texture', 'worst area', 'worst concave points'],\n",
              "      dtype='object')"
            ]
          },
          "execution_count": 92,
          "metadata": {},
          "output_type": "execute_result"
        }
      ],
      "source": [
        "X_train.columns[rfe_model.get_support()]"
      ]
    },
    {
      "cell_type": "code",
      "execution_count": null,
      "id": "b80cd50f",
      "metadata": {
        "id": "b80cd50f"
      },
      "outputs": [],
      "source": [
        "X_train_rfe_selected = rfe_model.transform(X_train)\n",
        "X_test_rfe_selected  = rfe_model.transform(X_test)"
      ]
    },
    {
      "cell_type": "code",
      "execution_count": null,
      "id": "76431889",
      "metadata": {
        "id": "76431889",
        "outputId": "79843793-6b85-4dd0-fa2b-bc2da47de34b"
      },
      "outputs": [
        {
          "data": {
            "text/plain": [
              "(455, 7)"
            ]
          },
          "execution_count": 94,
          "metadata": {},
          "output_type": "execute_result"
        }
      ],
      "source": [
        "X_train_rfe_selected.shape"
      ]
    },
    {
      "cell_type": "code",
      "execution_count": null,
      "id": "fd9a0aec",
      "metadata": {
        "id": "fd9a0aec",
        "outputId": "70ead2da-8d3f-4ce2-ed7e-5004057e3a23"
      },
      "outputs": [
        {
          "data": {
            "text/plain": [
              "(114, 7)"
            ]
          },
          "execution_count": 95,
          "metadata": {},
          "output_type": "execute_result"
        }
      ],
      "source": [
        "X_test_rfe_selected.shape"
      ]
    },
    {
      "cell_type": "code",
      "execution_count": null,
      "id": "56b258f5",
      "metadata": {
        "id": "56b258f5",
        "outputId": "edeb18b7-37fe-4bc9-ac55-90fd854dfa68"
      },
      "outputs": [
        {
          "name": "stdout",
          "output_type": "stream",
          "text": [
            "Accuracy Score  :  0.9737\n",
            "Precision Score :  0.9726\n",
            "Recall Score    :  0.9861\n",
            "Confusion Matrix:\n",
            " [[40  2]\n",
            " [ 1 71]]\n",
            "Wall time: 261 ms\n"
          ]
        }
      ],
      "source": [
        "%%time\n",
        "run_RandomForestClassifier(X_train_rfe_selected,y_train,X_test_rfe_selected,y_test) #7features"
      ]
    },
    {
      "cell_type": "code",
      "execution_count": null,
      "id": "2da8bbeb",
      "metadata": {
        "id": "2da8bbeb",
        "outputId": "7401ab8a-f964-452a-e4c1-612b9c8bba55"
      },
      "outputs": [
        {
          "name": "stdout",
          "output_type": "stream",
          "text": [
            "Accuracy Score  :  0.9561\n",
            "Precision Score :  0.9718\n",
            "Recall Score    :  0.9583\n",
            "Confusion Matrix:\n",
            " [[40  2]\n",
            " [ 3 69]]\n",
            "Wall time: 311 ms\n"
          ]
        }
      ],
      "source": [
        "%%time\n",
        "run_RandomForestClassifier(X_train,y_train,X_test,y_test)"
      ]
    },
    {
      "cell_type": "markdown",
      "id": "d77a8c25",
      "metadata": {
        "id": "d77a8c25"
      },
      "source": [
        "# THE END!!!"
      ]
    }
  ],
  "metadata": {
    "kernelspec": {
      "display_name": "Python 3",
      "language": "python",
      "name": "python3"
    },
    "language_info": {
      "codemirror_mode": {
        "name": "ipython",
        "version": 3
      },
      "file_extension": ".py",
      "mimetype": "text/x-python",
      "name": "python",
      "nbconvert_exporter": "python",
      "pygments_lexer": "ipython3",
      "version": "3.8.8"
    },
    "colab": {
      "provenance": [],
      "include_colab_link": true
    }
  },
  "nbformat": 4,
  "nbformat_minor": 5
}